{
 "cells": [
  {
   "cell_type": "code",
   "execution_count": 1,
   "metadata": {},
   "outputs": [],
   "source": [
    "import numpy as np\n",
    "import numpyro\n",
    "import numpyro.distributions as dist\n",
    "import jax.numpy as jnp\n",
    "import jax\n",
    "from tensorflow_probability.substrates.jax import distributions as tfd\n",
    "numpyro.set_host_device_count(4)"
   ]
  },
  {
   "cell_type": "code",
   "execution_count": 2,
   "metadata": {},
   "outputs": [],
   "source": [
    "import pickle\n",
    "\n",
    "# Unpickle the variables\n",
    "with open(\"/Users/christopher/git/ComputableAstronomicalDiaries/PythonExperiments/vars.pkl\", \"rb\") as f:\n",
    "    loaded_variables = pickle.load(f)\n",
    "\n",
    "# Access the variables\n",
    "n_objects = loaded_variables[\"n_objects\"]\n",
    "n_references = loaded_variables[\"n_references\"]\n",
    "n_times = loaded_variables[\"n_times\"]\n",
    "time_range = loaded_variables[\"time_range\"]\n",
    "cubits = loaded_variables[\"cubits\"]\n",
    "cubits_mask = loaded_variables[\"cubits_mask\"]\n",
    "objects = loaded_variables[\"objects\"]\n",
    "objects_mask = loaded_variables[\"objects_mask\"]\n",
    "references = loaded_variables[\"references\"]\n",
    "references_mask = loaded_variables[\"references_mask\"]\n",
    "axes = loaded_variables[\"axes\"]\n",
    "axes_mask = loaded_variables[\"axes_mask\"]\n",
    "signs = loaded_variables[\"signs\"]\n",
    "signs_mask = loaded_variables[\"signs_mask\"]\n",
    "years = loaded_variables[\"years\"]\n",
    "years_mask = loaded_variables[\"years_mask\"]\n",
    "months = loaded_variables[\"months\"]\n",
    "months_mask = loaded_variables[\"months_mask\"]\n",
    "earliest_days = loaded_variables[\"earliest_days\"]\n",
    "latest_days = loaded_variables[\"latest_days\"]\n",
    "year_month_julian_dates = loaded_variables[\"year_month_julian_dates\"]\n",
    "julian_date_index = loaded_variables[\"julian_date_index\"]\n",
    "object_reference_axis_date_positions = loaded_variables[\"object_reference_axis_date_positions\"]\n",
    "times = loaded_variables[\"times\"]\n",
    "times_mask = loaded_variables[\"times_mask\"]"
   ]
  },
  {
   "cell_type": "code",
   "execution_count": 3,
   "metadata": {},
   "outputs": [],
   "source": [
    "from numpyro.ops.indexing import Vindex\n",
    "def model():\n",
    "    # number of observations\n",
    "    n = len(objects)\n",
    "\n",
    "    # length of a cubit\n",
    "    length_cubit = numpyro.sample('length_cubit', dist.TruncatedNormal(2.0, 1.0, low=0.0))\n",
    "\n",
    "    # observation variance\n",
    "    distance_variance = numpyro.sample('distance_variance', dist.Gamma(0.5,0.5))\n",
    "\n",
    "    # outlier distribution parameters\n",
    "    mu_outlier = numpyro.sample('mu_outlier', dist.Normal(0,1))\n",
    "    sigma_outlier = numpyro.sample('sigma_outlier', dist.Gamma(2.0,0.5))\n",
    "\n",
    "    # categorical priors\n",
    "    object_dist = numpyro.sample('object_dist', dist.Dirichlet(jnp.ones(n_objects)))\n",
    "    reference_dist = numpyro.sample('reference_dist', dist.Dirichlet(jnp.ones(n_references)))\n",
    "    axis_dist = numpyro.sample('axis_dist', dist.Dirichlet(jnp.ones(2)))\n",
    "    sign_dist = numpyro.sample('sign_dist', dist.Dirichlet(jnp.ones(2)))\n",
    "\n",
    "    # outlier probability prior\n",
    "    q = numpyro.sample('q', dist.Beta(1/2,1))\n",
    "\n",
    "    with numpyro.plate('observations', n):\n",
    "\n",
    "        # observed objects\n",
    "        object_probs = jax.nn.one_hot(objects,n_objects)\n",
    "        object_probs = object_probs.at[objects_mask,:].set(object_dist)\n",
    "        latent_object = numpyro.sample('latent_object', dist.Categorical(probs=object_probs))\n",
    "        # latent_object = jnp.abs(objects)\n",
    "    \n",
    "        # observed references\n",
    "        reference_probs = jax.nn.one_hot(references,n_references)\n",
    "        reference_probs = reference_probs.at[references_mask,:].set(reference_dist)\n",
    "        latent_reference = numpyro.sample('latent_reference', dist.Categorical(probs=reference_probs))\n",
    "        # latent_reference = jnp.abs(references)\n",
    "    \n",
    "        # observed relation axes\n",
    "        axis_probs = jax.nn.one_hot(axes,2)\n",
    "        axis_probs = axis_probs.at[axes_mask,:].set(axis_dist)\n",
    "        latent_axis = numpyro.sample('latent_axis', dist.Categorical(probs=axis_probs))\n",
    "        # latent_axis = jnp.abs(axes)\n",
    "    \n",
    "        # observed relation signs\n",
    "        sign_probs = jax.nn.one_hot(signs,2)\n",
    "        sign_probs = sign_probs.at[signs_mask,:].set(sign_dist)\n",
    "        latent_sign_id = numpyro.sample('latent_sign', dist.Categorical(probs=sign_probs))\n",
    "        # latent_sign_id = jnp.abs(signs)\n",
    "        latent_sign = latent_sign_id*2-1\n",
    "    \n",
    "        # observation dates\n",
    "        date = julian_date_index[year_month_julian_dates[years, months] + earliest_days - 1]\n",
    "    \n",
    "        # the observation times of different observations\n",
    "        time = numpyro.sample('time', dist.Normal(0.0,6))\n",
    "        \n",
    "        # true distances at the given observation times\n",
    "        distance_range = Vindex(object_reference_axis_date_positions)[latent_object, latent_reference, latent_axis, date]\n",
    "        # distance_range = object_reference_axis_date_positions[latent_object, latent_reference, latent_axis, date]\n",
    "    \n",
    "        true_distance = ((distance_range[...,1]-distance_range[...,0])/(time_range[1] - time_range[0])*(time-time_range[1]))+distance_range[...,1]\n",
    "\n",
    "        # outlier mixture model\n",
    "        cat = dist.Categorical(probs=jnp.array([1-q,q]))\n",
    "        inlier_dist = dist.Normal(latent_sign * true_distance / length_cubit, distance_variance)\n",
    "        outlier_dist = dist.Normal(mu_outlier, sigma_outlier)\n",
    "        mix = dist.Mixture(cat, [inlier_dist, outlier_dist])\n",
    "        # mix = inlier_dist\n",
    "    \n",
    "        with numpyro.handlers.mask(mask=jnp.logical_not(cubits_mask)):\n",
    "            c = numpyro.sample('c', mix, obs=cubits)\n",
    "\n",
    "        # record m for outlier identification\n",
    "        # print(c.shape)\n",
    "        # log_probs = mix.component_log_probs(c)\n",
    "        # numpyro.deterministic('m', log_probs - jax.nn.logsumexp(log_probs, axis=-1, keepdims=True))"
   ]
  },
  {
   "cell_type": "markdown",
   "metadata": {},
   "source": [
    "## Skellam experiments"
   ]
  },
  {
   "cell_type": "code",
   "execution_count": 10,
   "metadata": {},
   "outputs": [],
   "source": [
    "class Skellam(dist.Distribution):\n",
    "    def __init__(self, u1, u2):\n",
    "        batch_shape = jax.lax.broadcast_shapes(jnp.shape(u1), jnp.shape(u2))\n",
    "        self._tf_skellam = tfd.Skellam(u1,u2)\n",
    "        self._poisson1 = dist.Poisson(u1)\n",
    "        self._poisson2 = dist.Poisson(u2)\n",
    "        super(Skellam, self).__init__(batch_shape)\n",
    "\n",
    "    def log_prob(self, value):\n",
    "        return self._tf_skellam.log_prob(value)\n",
    "    \n",
    "    def sample(self, key, sample_shape=()):\n",
    "        k1, k2 = jax.random.split(key)\n",
    "        return self._poisson1.sample(k1, sample_shape=sample_shape) - self._poisson2.sample(k2, sample_shape=sample_shape)\n"
   ]
  },
  {
   "cell_type": "code",
   "execution_count": null,
   "metadata": {},
   "outputs": [],
   "source": [
    "class TruncatedSkellam(dist.Distributio, low=-2, high=2):\n",
    "    def __init__(self, u1, u2):\n",
    "        batch_shape = jax.lax.broadcast_shapes(jnp.shape(u1), jnp.shape(u2))\n",
    "        self._tf_skellam = tfd.Skellam(u1,u2)\n",
    "        self._poisson1 = dist.Poisson(u1)\n",
    "        self._poisson2 = dist.Poisson(u2)\n",
    "        super(Skellam, self).__init__(batch_shape)\n",
    "\n",
    "    def log_prob(self, value):\n",
    "        return self._tf_skellam.log_prob(value)\n",
    "    \n",
    "    def sample(self, key, sample_shape=()):\n",
    "        k1, k2 = jax.random.split(key)\n",
    "        return self._poisson1.sample(k1, sample_shape=sample_shape) - self._poisson2.sample(k2, sample_shape=sample_shape)\n"
   ]
  },
  {
   "cell_type": "code",
   "execution_count": 44,
   "metadata": {},
   "outputs": [
    {
     "data": {
      "text/plain": [
       "Array([ 0, -1, -1, -1, -1,  0, -1, -1, -1,  0,  0, -1,  0, -2, -2, -1,  1,\n",
       "        0,  0, -2, -2,  0, -1,  0,  2, -2,  1,  1, -1, -2, -2, -2, -1,  1,\n",
       "        1,  0, -2, -1,  0, -2,  2,  0,  0,  2,  0,  0,  1,  0,  0, -1,  0,\n",
       "       -2, -1, -1, -1,  0, -2,  0, -1, -1,  0, -1,  1, -2, -1,  2, -2,  1,\n",
       "       -1,  0, -1, -1,  0, -2, -2, -1, -1, -1,  0,  1, -1, -2,  2,  0, -1,\n",
       "       -1,  2,  0,  0,  0, -1,  0,  2, -2, -2,  0,  2,  0, -1, -2,  0, -1,\n",
       "        0,  0, -2,  0, -1,  1, -1,  1,  0,  0,  0,  0, -1,  1,  1, -1,  0,\n",
       "        2, -2, -2, -1,  0, -2, -2, -1, -1,  1,  1,  0,  0,  0,  0,  0,  0,\n",
       "        1, -2,  0,  0,  0,  1,  0, -1,  0,  0,  0,  0,  0, -2, -1,  1,  0,\n",
       "        0, -2, -1,  0,  0,  0, -2,  0,  0,  0, -1,  0,  2, -1, -2,  1,  1,\n",
       "       -2,  0,  0,  1, -1,  0, -1, -2, -1,  1, -1,  0, -1, -2,  0,  0,  0,\n",
       "       -1,  0, -1,  0, -1,  1,  0,  0, -1,  1, -1, -1,  0,  2, -1, -1,  1,\n",
       "       -2,  0,  1, -2,  0, -1, -1, -1, -2, -2, -1, -1,  0, -1,  0, -1,  1,\n",
       "       -2,  1, -1, -2,  1, -1,  1,  1,  1,  1, -1,  0,  0,  1,  0,  0, -1,\n",
       "       -1, -2,  0,  1, -1,  0, -1, -1, -1,  1, -1,  0,  1, -2,  0, -2, -1,\n",
       "        1,  0,  0, -1, -2,  0,  0,  0, -1, -1, -2, -2, -1,  1,  1,  0, -1,\n",
       "       -1, -2,  0, -1,  0,  1,  0,  0, -1, -2,  1, -2, -1,  0, -1,  0,  0,\n",
       "       -2,  2,  0, -1, -2, -1, -1, -2, -1, -1,  0,  0, -1,  0,  0,  0,  0,\n",
       "        0, -1, -2, -2,  0,  0, -1,  0,  1, -2,  2,  0, -2,  1,  0, -2,  0,\n",
       "        0, -2,  0,  1,  0,  1, -2, -1, -2, -1,  0, -1,  0,  0,  1, -1, -2,\n",
       "        0, -1,  1, -1,  1,  1,  0,  0, -1, -1, -2, -1, -2, -1,  1,  0,  0,\n",
       "       -2,  1,  0, -2,  1,  0,  0,  1, -1, -2,  0, -1, -1,  1,  0, -1, -2,\n",
       "        1,  1, -2, -1,  0,  0,  0,  0, -1, -2,  0, -1, -2,  0, -1,  0, -2,\n",
       "       -2, -1,  1, -1, -2,  0, -1, -2,  0,  1, -1, -2,  0, -1,  1,  0,  0,\n",
       "       -1,  1,  0,  1,  0, -1,  1,  0,  0,  1, -2, -2,  1,  0, -1, -2, -1,\n",
       "       -1, -1,  1, -2, -1, -1, -2, -2, -1,  0, -1,  0,  0,  1,  1,  0,  1,\n",
       "       -1,  0, -1, -2,  0, -1,  1, -1, -1, -1,  0,  0,  2, -1,  2, -1, -1,\n",
       "        0,  0, -1, -1, -1, -1,  0, -1, -1,  0,  1, -2,  0, -2, -1,  2, -2,\n",
       "        0, -2, -2, -1, -1, -1,  0, -1,  0, -1,  1,  0, -2,  0, -1,  0, -2,\n",
       "       -1,  0, -1, -2,  0, -1,  1, -1,  0, -1,  0,  0,  1,  1, -1,  0, -1,\n",
       "       -2,  2,  0, -1,  0,  0, -2,  0,  0, -1,  1,  0,  0, -1,  1, -1,  0,\n",
       "        0, -1, -1, -1, -1,  0,  0,  0, -2,  0, -2,  1,  0, -2,  1, -2,  0,\n",
       "       -1,  0, -2, -1, -2, -1, -1,  0, -2, -1,  0,  1,  1,  0,  0, -2,  0,\n",
       "       -1,  0,  0,  1, -1,  0,  0,  0,  1,  0,  0,  0, -2, -1, -1,  1,  0,\n",
       "       -2,  0,  0,  1,  1, -2,  0,  0, -2, -1,  0, -2,  0, -2, -2,  0, -2,\n",
       "       -1,  0,  0, -1,  1, -1, -1, -2, -1, -1,  1, -1,  0, -2, -1,  0,  0,\n",
       "        0, -1, -1, -2, -1,  0,  0, -1,  2, -1,  1, -1, -2,  0, -1, -1,  0,\n",
       "       -1,  0, -2, -2, -1, -2, -1, -2,  0,  1,  0,  1,  0, -2, -2, -2, -2,\n",
       "       -2,  1, -1,  0,  0,  0,  0, -1, -2, -2,  1, -2,  0, -1, -1,  0,  0,\n",
       "        1, -2,  1, -2, -2,  0,  0,  1,  0,  0,  1,  1,  0, -2, -1,  0,  0,\n",
       "        0,  1, -2, -1, -1, -1,  0,  1, -2, -1,  0, -1,  0,  2,  0, -1, -2,\n",
       "        0,  0, -1,  0, -1, -1,  0,  1, -1,  0,  0, -2, -1,  0,  0,  1,  1,\n",
       "       -1, -2,  0, -1, -2, -1, -1, -1,  0,  1, -1,  0,  0, -1,  0,  1, -2,\n",
       "       -2,  0,  1,  0,  0,  1, -1, -1,  0,  0, -1,  0,  0, -1, -1,  0, -2,\n",
       "       -2, -1, -1,  1, -1,  0,  2,  0, -2,  0, -1,  0, -1,  0, -2,  0,  1,\n",
       "        0, -2, -2,  1, -2,  0,  1, -2, -2, -1,  0,  0,  1, -1,  0,  0,  0,\n",
       "       -1,  1, -2, -1, -2, -1, -2, -1, -2,  0, -2,  0,  0,  1, -2,  2,  0,\n",
       "        0, -1, -2,  0,  1,  0, -1, -2,  2, -2,  0,  0, -1,  0,  1,  0,  1,\n",
       "        0, -2, -1, -1,  1, -1, -2, -2, -1,  0, -1, -2, -1,  1, -1, -1, -2,\n",
       "       -1, -1, -1,  0, -1,  0, -1,  0,  0, -1,  0,  0, -1,  1, -1, -1, -1,\n",
       "       -1,  0, -1, -1, -1,  0,  0, -1, -1, -2,  0,  1,  0, -1,  0, -1,  0,\n",
       "       -1,  0, -2, -2, -1, -1,  0, -1,  1,  2, -1,  0, -1, -1,  1,  0,  1,\n",
       "       -1,  0,  0,  1, -1, -1,  0, -1, -2,  0,  0, -1,  0,  0,  0,  0, -1,\n",
       "       -1, -1,  1, -1,  0, -1, -1, -1, -2, -1,  2, -1, -1,  1,  1,  0,  1,\n",
       "        0, -2,  0, -1, -1, -2,  0,  0,  0,  0,  0, -1,  0,  0, -1, -2, -1,\n",
       "       -1, -1,  0, -1,  0, -2, -2, -2,  0, -1, -2,  1, -2,  0,  0, -1, -1,\n",
       "       -1, -2, -1, -1, -1,  0,  1, -1, -1,  1,  2, -1,  0, -1, -1,  0,  1,\n",
       "       -1, -1,  0, -2,  1,  0,  0,  2,  0,  0,  0, -1,  0, -1, -1, -1,  1,\n",
       "       -1, -2, -1,  0,  0,  0,  0, -1, -1, -1,  1,  0,  0,  0],      dtype=int32)"
      ]
     },
     "execution_count": 44,
     "metadata": {},
     "output_type": "execute_result"
    }
   ],
   "source": [
    "dist.Categorical(tfd.Skellam(0.5,1.2).prob(jnp.arange(-2,3,dtype=float))).sample(jax.random.PRNGKey(1234), sample_shape=(1000,)) - 2"
   ]
  },
  {
   "cell_type": "code",
   "execution_count": 23,
   "metadata": {},
   "outputs": [
    {
     "data": {
      "text/plain": [
       "Array(677, dtype=int32)"
      ]
     },
     "execution_count": 23,
     "metadata": {},
     "output_type": "execute_result"
    }
   ],
   "source": [
    "dist.Categorical(jnp.array([0.33,0.66])).sample(jax.random.PRNGKey(1234), sample_shape=(1000,)).sum()"
   ]
  },
  {
   "cell_type": "code",
   "execution_count": 3,
   "metadata": {},
   "outputs": [],
   "source": [
    "data_sk = dist.Poisson(1.2).sample(jax.random.PRNGKey(1234), sample_shape=(1000,)) - dist.Poisson(3.4).sample(jax.random.PRNGKey(4321), sample_shape=(1000,))\n",
    "data = dist.Normal(data_sk, 1).sample(jax.random.PRNGKey(5255))"
   ]
  },
  {
   "cell_type": "code",
   "execution_count": 5,
   "metadata": {},
   "outputs": [],
   "source": [
    "def model():\n",
    "    u1 = numpyro.sample('u1', dist.Gamma(0.5,0.5))\n",
    "    u2 = numpyro.sample('u2', dist.Gamma(0.5,0.5))\n",
    "    sk = numpyro.sample('sk', Skellam(u1, u2))\n",
    "    numpyro.sample('data', dist.Normal(sk, 1), obs=data)"
   ]
  },
  {
   "cell_type": "code",
   "execution_count": 70,
   "metadata": {},
   "outputs": [
    {
     "ename": "SyntaxError",
     "evalue": "expected argument value expression (2938217441.py, line 1)",
     "output_type": "error",
     "traceback": [
      "\u001b[0;36m  Cell \u001b[0;32mIn[70], line 1\u001b[0;36m\u001b[0m\n\u001b[0;31m    kernel = numpyro.infer.HMCGibbs(numpyro.infer.NUTS(model), gibbs_fn=, gibbs_sites=['sk'])\u001b[0m\n\u001b[0m                                                               ^\u001b[0m\n\u001b[0;31mSyntaxError\u001b[0m\u001b[0;31m:\u001b[0m expected argument value expression\n"
     ]
    }
   ],
   "source": [
    "def gibbs_fn(rng_key, gibbs_sites, hmc_sites):\n",
    "    u1 = hmc_sites['u1']\n",
    "    u2 = hmc_sites['u2']\n",
    "    return\n",
    "\n",
    "kernel = numpyro.infer.HMCGibbs(numpyro.infer.NUTS(model), gibbs_fn=gibbs_fn, gibbs_sites=['sk'])\n",
    "mcmc = numpyro.infer.MCMC(kernel, num_warmup=1000, num_samples=4000, num_chains=1, progress_bar=True)\n",
    "mcmc.run(jax.random.PRNGKey(1234))"
   ]
  },
  {
   "cell_type": "code",
   "execution_count": 18,
   "metadata": {},
   "outputs": [
    {
     "data": {
      "text/plain": [
       "Array([-7.1050954, -0.4408767, -7.1050954], dtype=float32)"
      ]
     },
     "execution_count": 18,
     "metadata": {},
     "output_type": "execute_result"
    }
   ],
   "source": [
    "Skellam(0.2,0.3).log_prob(jnp.array([3.0,0.,3.]))"
   ]
  },
  {
   "cell_type": "code",
   "execution_count": 30,
   "metadata": {},
   "outputs": [
    {
     "ename": "AssertionError",
     "evalue": "",
     "output_type": "error",
     "traceback": [
      "\u001b[0;31m---------------------------------------------------------------------------\u001b[0m",
      "\u001b[0;31mAssertionError\u001b[0m                            Traceback (most recent call last)",
      "Cell \u001b[0;32mIn[30], line 1\u001b[0m\n\u001b[0;32m----> 1\u001b[0m \u001b[43mdist\u001b[49m\u001b[38;5;241;43m.\u001b[39;49m\u001b[43mTruncatedDistribution\u001b[49m\u001b[43m(\u001b[49m\u001b[43mtfd\u001b[49m\u001b[38;5;241;43m.\u001b[39;49m\u001b[43mNormal\u001b[49m\u001b[43m(\u001b[49m\u001b[38;5;241;43m0\u001b[39;49m\u001b[43m,\u001b[49m\u001b[38;5;241;43m1\u001b[39;49m\u001b[43m)\u001b[49m\u001b[43m,\u001b[49m\u001b[43m \u001b[49m\u001b[43mlow\u001b[49m\u001b[38;5;241;43m=\u001b[39;49m\u001b[38;5;241;43m-\u001b[39;49m\u001b[38;5;241;43m1\u001b[39;49m\u001b[43m,\u001b[49m\u001b[43mhigh\u001b[49m\u001b[38;5;241;43m=\u001b[39;49m\u001b[38;5;241;43m1\u001b[39;49m\u001b[43m)\u001b[49m\n",
      "File \u001b[0;32m~/git/ComputableAstronomicalDiaries/PythonExperiments/.venv/lib/python3.12/site-packages/numpyro/distributions/truncated.py:313\u001b[0m, in \u001b[0;36mTruncatedDistribution\u001b[0;34m(base_dist, low, high, validate_args)\u001b[0m\n\u001b[1;32m    309\u001b[0m     \u001b[38;5;28;01mreturn\u001b[39;00m RightTruncatedDistribution(\n\u001b[1;32m    310\u001b[0m         base_dist, high\u001b[38;5;241m=\u001b[39mhigh, validate_args\u001b[38;5;241m=\u001b[39mvalidate_args\n\u001b[1;32m    311\u001b[0m     )\n\u001b[1;32m    312\u001b[0m \u001b[38;5;28;01melse\u001b[39;00m:\n\u001b[0;32m--> 313\u001b[0m     \u001b[38;5;28;01mreturn\u001b[39;00m \u001b[43mTwoSidedTruncatedDistribution\u001b[49m\u001b[43m(\u001b[49m\n\u001b[1;32m    314\u001b[0m \u001b[43m        \u001b[49m\u001b[43mbase_dist\u001b[49m\u001b[43m,\u001b[49m\u001b[43m \u001b[49m\u001b[43mlow\u001b[49m\u001b[38;5;241;43m=\u001b[39;49m\u001b[43mlow\u001b[49m\u001b[43m,\u001b[49m\u001b[43m \u001b[49m\u001b[43mhigh\u001b[49m\u001b[38;5;241;43m=\u001b[39;49m\u001b[43mhigh\u001b[49m\u001b[43m,\u001b[49m\u001b[43m \u001b[49m\u001b[43mvalidate_args\u001b[49m\u001b[38;5;241;43m=\u001b[39;49m\u001b[43mvalidate_args\u001b[49m\n\u001b[1;32m    315\u001b[0m \u001b[43m    \u001b[49m\u001b[43m)\u001b[49m\n",
      "File \u001b[0;32m~/git/ComputableAstronomicalDiaries/PythonExperiments/.venv/lib/python3.12/site-packages/numpyro/distributions/distribution.py:100\u001b[0m, in \u001b[0;36mDistributionMeta.__call__\u001b[0;34m(cls, *args, **kwargs)\u001b[0m\n\u001b[1;32m     98\u001b[0m     \u001b[38;5;28;01mif\u001b[39;00m result \u001b[38;5;129;01mis\u001b[39;00m \u001b[38;5;129;01mnot\u001b[39;00m \u001b[38;5;28;01mNone\u001b[39;00m:\n\u001b[1;32m     99\u001b[0m         \u001b[38;5;28;01mreturn\u001b[39;00m result\n\u001b[0;32m--> 100\u001b[0m \u001b[38;5;28;01mreturn\u001b[39;00m \u001b[38;5;28;43msuper\u001b[39;49m\u001b[43m(\u001b[49m\u001b[43m)\u001b[49m\u001b[38;5;241;43m.\u001b[39;49m\u001b[38;5;21;43m__call__\u001b[39;49m\u001b[43m(\u001b[49m\u001b[38;5;241;43m*\u001b[39;49m\u001b[43margs\u001b[49m\u001b[43m,\u001b[49m\u001b[43m \u001b[49m\u001b[38;5;241;43m*\u001b[39;49m\u001b[38;5;241;43m*\u001b[39;49m\u001b[43mkwargs\u001b[49m\u001b[43m)\u001b[49m\n",
      "File \u001b[0;32m~/git/ComputableAstronomicalDiaries/PythonExperiments/.venv/lib/python3.12/site-packages/numpyro/distributions/truncated.py:182\u001b[0m, in \u001b[0;36mTwoSidedTruncatedDistribution.__init__\u001b[0;34m(self, base_dist, low, high, validate_args)\u001b[0m\n\u001b[1;32m    181\u001b[0m \u001b[38;5;28;01mdef\u001b[39;00m \u001b[38;5;21m__init__\u001b[39m(\u001b[38;5;28mself\u001b[39m, base_dist, low\u001b[38;5;241m=\u001b[39m\u001b[38;5;241m0.0\u001b[39m, high\u001b[38;5;241m=\u001b[39m\u001b[38;5;241m1.0\u001b[39m, \u001b[38;5;241m*\u001b[39m, validate_args\u001b[38;5;241m=\u001b[39m\u001b[38;5;28;01mNone\u001b[39;00m):\n\u001b[0;32m--> 182\u001b[0m     \u001b[38;5;28;01massert\u001b[39;00m \u001b[38;5;28misinstance\u001b[39m(base_dist, \u001b[38;5;28mself\u001b[39m\u001b[38;5;241m.\u001b[39msupported_types)\n\u001b[1;32m    183\u001b[0m     \u001b[38;5;28;01massert\u001b[39;00m (\n\u001b[1;32m    184\u001b[0m         base_dist\u001b[38;5;241m.\u001b[39msupport \u001b[38;5;129;01mis\u001b[39;00m constraints\u001b[38;5;241m.\u001b[39mreal\n\u001b[1;32m    185\u001b[0m     ), \u001b[38;5;124m\"\u001b[39m\u001b[38;5;124mThe base distribution should be univariate and have real support.\u001b[39m\u001b[38;5;124m\"\u001b[39m\n\u001b[1;32m    186\u001b[0m     batch_shape \u001b[38;5;241m=\u001b[39m lax\u001b[38;5;241m.\u001b[39mbroadcast_shapes(\n\u001b[1;32m    187\u001b[0m         base_dist\u001b[38;5;241m.\u001b[39mbatch_shape, jnp\u001b[38;5;241m.\u001b[39mshape(low), jnp\u001b[38;5;241m.\u001b[39mshape(high)\n\u001b[1;32m    188\u001b[0m     )\n",
      "\u001b[0;31mAssertionError\u001b[0m: "
     ]
    }
   ],
   "source": [
    "dist.TruncatedDistribution(tfd.Normal(0,1), low=-1,high=1)"
   ]
  },
  {
   "cell_type": "code",
   "execution_count": 23,
   "metadata": {},
   "outputs": [
    {
     "data": {
      "text/plain": [
       "<numpyro.distributions.truncated.TwoSidedTruncatedDistribution at 0x38426c980>"
      ]
     },
     "execution_count": 23,
     "metadata": {},
     "output_type": "execute_result"
    }
   ],
   "source": [
    "dist.TruncatedDistribution(dist.Normal(0,1), low=-1,high=1)"
   ]
  },
  {
   "cell_type": "code",
   "execution_count": 4,
   "metadata": {},
   "outputs": [
    {
     "name": "stderr",
     "output_type": "stream",
     "text": [
      "warmup:   0%|          | 14/5000 [23:54<141:57:11, 102.49s/it, 1023 steps of size 3.88e-03. acc. prob=0.62]\n"
     ]
    },
    {
     "ename": "KeyboardInterrupt",
     "evalue": "",
     "output_type": "error",
     "traceback": [
      "\u001b[0;31m---------------------------------------------------------------------------\u001b[0m",
      "\u001b[0;31mKeyboardInterrupt\u001b[0m                         Traceback (most recent call last)",
      "Cell \u001b[0;32mIn[4], line 3\u001b[0m\n\u001b[1;32m      1\u001b[0m kernel \u001b[38;5;241m=\u001b[39m numpyro\u001b[38;5;241m.\u001b[39minfer\u001b[38;5;241m.\u001b[39mDiscreteHMCGibbs(numpyro\u001b[38;5;241m.\u001b[39minfer\u001b[38;5;241m.\u001b[39mNUTS(model), modified\u001b[38;5;241m=\u001b[39m\u001b[38;5;28;01mFalse\u001b[39;00m)\n\u001b[1;32m      2\u001b[0m mcmc \u001b[38;5;241m=\u001b[39m numpyro\u001b[38;5;241m.\u001b[39minfer\u001b[38;5;241m.\u001b[39mMCMC(kernel, num_warmup\u001b[38;5;241m=\u001b[39m\u001b[38;5;241m1000\u001b[39m, num_samples\u001b[38;5;241m=\u001b[39m\u001b[38;5;241m4000\u001b[39m, num_chains\u001b[38;5;241m=\u001b[39m\u001b[38;5;241m1\u001b[39m, progress_bar\u001b[38;5;241m=\u001b[39m\u001b[38;5;28;01mTrue\u001b[39;00m)\n\u001b[0;32m----> 3\u001b[0m \u001b[43mmcmc\u001b[49m\u001b[38;5;241;43m.\u001b[39;49m\u001b[43mrun\u001b[49m\u001b[43m(\u001b[49m\u001b[43mjax\u001b[49m\u001b[38;5;241;43m.\u001b[39;49m\u001b[43mrandom\u001b[49m\u001b[38;5;241;43m.\u001b[39;49m\u001b[43mPRNGKey\u001b[49m\u001b[43m(\u001b[49m\u001b[38;5;241;43m1234\u001b[39;49m\u001b[43m)\u001b[49m\u001b[43m)\u001b[49m\n",
      "File \u001b[0;32m~/git/ComputableAstronomicalDiaries/PythonExperiments/.venv/lib/python3.12/site-packages/numpyro/infer/mcmc.py:682\u001b[0m, in \u001b[0;36mMCMC.run\u001b[0;34m(self, rng_key, extra_fields, init_params, *args, **kwargs)\u001b[0m\n\u001b[1;32m    680\u001b[0m map_args \u001b[38;5;241m=\u001b[39m (rng_key, init_state, init_params)\n\u001b[1;32m    681\u001b[0m \u001b[38;5;28;01mif\u001b[39;00m \u001b[38;5;28mself\u001b[39m\u001b[38;5;241m.\u001b[39mnum_chains \u001b[38;5;241m==\u001b[39m \u001b[38;5;241m1\u001b[39m:\n\u001b[0;32m--> 682\u001b[0m     states_flat, last_state \u001b[38;5;241m=\u001b[39m \u001b[43mpartial_map_fn\u001b[49m\u001b[43m(\u001b[49m\u001b[43mmap_args\u001b[49m\u001b[43m)\u001b[49m\n\u001b[1;32m    683\u001b[0m     states \u001b[38;5;241m=\u001b[39m jax\u001b[38;5;241m.\u001b[39mtree\u001b[38;5;241m.\u001b[39mmap(\u001b[38;5;28;01mlambda\u001b[39;00m x: x[jnp\u001b[38;5;241m.\u001b[39mnewaxis, \u001b[38;5;241m.\u001b[39m\u001b[38;5;241m.\u001b[39m\u001b[38;5;241m.\u001b[39m], states_flat)\n\u001b[1;32m    684\u001b[0m \u001b[38;5;28;01melse\u001b[39;00m:\n",
      "File \u001b[0;32m~/git/ComputableAstronomicalDiaries/PythonExperiments/.venv/lib/python3.12/site-packages/numpyro/infer/mcmc.py:467\u001b[0m, in \u001b[0;36mMCMC._single_chain_mcmc\u001b[0;34m(self, init, args, kwargs, collect_fields, remove_sites)\u001b[0m\n\u001b[1;32m    461\u001b[0m collection_size \u001b[38;5;241m=\u001b[39m \u001b[38;5;28mself\u001b[39m\u001b[38;5;241m.\u001b[39m_collection_params[\u001b[38;5;124m\"\u001b[39m\u001b[38;5;124mcollection_size\u001b[39m\u001b[38;5;124m\"\u001b[39m]\n\u001b[1;32m    462\u001b[0m collection_size \u001b[38;5;241m=\u001b[39m (\n\u001b[1;32m    463\u001b[0m     collection_size\n\u001b[1;32m    464\u001b[0m     \u001b[38;5;28;01mif\u001b[39;00m collection_size \u001b[38;5;129;01mis\u001b[39;00m \u001b[38;5;28;01mNone\u001b[39;00m\n\u001b[1;32m    465\u001b[0m     \u001b[38;5;28;01melse\u001b[39;00m collection_size \u001b[38;5;241m/\u001b[39m\u001b[38;5;241m/\u001b[39m \u001b[38;5;28mself\u001b[39m\u001b[38;5;241m.\u001b[39mthinning\n\u001b[1;32m    466\u001b[0m )\n\u001b[0;32m--> 467\u001b[0m collect_vals \u001b[38;5;241m=\u001b[39m \u001b[43mfori_collect\u001b[49m\u001b[43m(\u001b[49m\n\u001b[1;32m    468\u001b[0m \u001b[43m    \u001b[49m\u001b[43mlower_idx\u001b[49m\u001b[43m,\u001b[49m\n\u001b[1;32m    469\u001b[0m \u001b[43m    \u001b[49m\u001b[43mupper_idx\u001b[49m\u001b[43m,\u001b[49m\n\u001b[1;32m    470\u001b[0m \u001b[43m    \u001b[49m\u001b[43msample_fn\u001b[49m\u001b[43m,\u001b[49m\n\u001b[1;32m    471\u001b[0m \u001b[43m    \u001b[49m\u001b[43minit_val\u001b[49m\u001b[43m,\u001b[49m\n\u001b[1;32m    472\u001b[0m \u001b[43m    \u001b[49m\u001b[43mtransform\u001b[49m\u001b[38;5;241;43m=\u001b[39;49m\u001b[43m_collect_fn\u001b[49m\u001b[43m(\u001b[49m\u001b[43mcollect_fields\u001b[49m\u001b[43m,\u001b[49m\u001b[43m \u001b[49m\u001b[43mremove_sites\u001b[49m\u001b[43m)\u001b[49m\u001b[43m,\u001b[49m\n\u001b[1;32m    473\u001b[0m \u001b[43m    \u001b[49m\u001b[43mprogbar\u001b[49m\u001b[38;5;241;43m=\u001b[39;49m\u001b[38;5;28;43mself\u001b[39;49m\u001b[38;5;241;43m.\u001b[39;49m\u001b[43mprogress_bar\u001b[49m\u001b[43m,\u001b[49m\n\u001b[1;32m    474\u001b[0m \u001b[43m    \u001b[49m\u001b[43mreturn_last_val\u001b[49m\u001b[38;5;241;43m=\u001b[39;49m\u001b[38;5;28;43;01mTrue\u001b[39;49;00m\u001b[43m,\u001b[49m\n\u001b[1;32m    475\u001b[0m \u001b[43m    \u001b[49m\u001b[43mthinning\u001b[49m\u001b[38;5;241;43m=\u001b[39;49m\u001b[38;5;28;43mself\u001b[39;49m\u001b[38;5;241;43m.\u001b[39;49m\u001b[43mthinning\u001b[49m\u001b[43m,\u001b[49m\n\u001b[1;32m    476\u001b[0m \u001b[43m    \u001b[49m\u001b[43mcollection_size\u001b[49m\u001b[38;5;241;43m=\u001b[39;49m\u001b[43mcollection_size\u001b[49m\u001b[43m,\u001b[49m\n\u001b[1;32m    477\u001b[0m \u001b[43m    \u001b[49m\u001b[43mprogbar_desc\u001b[49m\u001b[38;5;241;43m=\u001b[39;49m\u001b[43mpartial\u001b[49m\u001b[43m(\u001b[49m\u001b[43m_get_progbar_desc_str\u001b[49m\u001b[43m,\u001b[49m\u001b[43m \u001b[49m\u001b[43mlower_idx\u001b[49m\u001b[43m,\u001b[49m\u001b[43m \u001b[49m\u001b[43mphase\u001b[49m\u001b[43m)\u001b[49m\u001b[43m,\u001b[49m\n\u001b[1;32m    478\u001b[0m \u001b[43m    \u001b[49m\u001b[43mdiagnostics_fn\u001b[49m\u001b[38;5;241;43m=\u001b[39;49m\u001b[43mdiagnostics\u001b[49m\u001b[43m,\u001b[49m\n\u001b[1;32m    479\u001b[0m \u001b[43m    \u001b[49m\u001b[43mnum_chains\u001b[49m\u001b[38;5;241;43m=\u001b[39;49m\u001b[38;5;28;43mself\u001b[39;49m\u001b[38;5;241;43m.\u001b[39;49m\u001b[43mnum_chains\u001b[49m\n\u001b[1;32m    480\u001b[0m \u001b[43m    \u001b[49m\u001b[38;5;28;43;01mif\u001b[39;49;00m\u001b[43m \u001b[49m\u001b[43m(\u001b[49m\u001b[38;5;28;43mcallable\u001b[39;49m\u001b[43m(\u001b[49m\u001b[38;5;28;43mself\u001b[39;49m\u001b[38;5;241;43m.\u001b[39;49m\u001b[43mchain_method\u001b[49m\u001b[43m)\u001b[49m\u001b[43m \u001b[49m\u001b[38;5;129;43;01mor\u001b[39;49;00m\u001b[43m \u001b[49m\u001b[38;5;28;43mself\u001b[39;49m\u001b[38;5;241;43m.\u001b[39;49m\u001b[43mchain_method\u001b[49m\u001b[43m \u001b[49m\u001b[38;5;241;43m==\u001b[39;49m\u001b[43m \u001b[49m\u001b[38;5;124;43m\"\u001b[39;49m\u001b[38;5;124;43mparallel\u001b[39;49m\u001b[38;5;124;43m\"\u001b[39;49m\u001b[43m)\u001b[49m\n\u001b[1;32m    481\u001b[0m \u001b[43m    \u001b[49m\u001b[38;5;28;43;01melse\u001b[39;49;00m\u001b[43m \u001b[49m\u001b[38;5;241;43m1\u001b[39;49m\u001b[43m,\u001b[49m\n\u001b[1;32m    482\u001b[0m \u001b[43m\u001b[49m\u001b[43m)\u001b[49m\n\u001b[1;32m    483\u001b[0m states, last_val \u001b[38;5;241m=\u001b[39m collect_vals\n\u001b[1;32m    484\u001b[0m \u001b[38;5;66;03m# Get first argument of type `HMCState`\u001b[39;00m\n",
      "File \u001b[0;32m~/git/ComputableAstronomicalDiaries/PythonExperiments/.venv/lib/python3.12/site-packages/numpyro/util.py:398\u001b[0m, in \u001b[0;36mfori_collect\u001b[0;34m(lower, upper, body_fun, init_val, transform, progbar, return_last_val, collection_size, thinning, **progbar_opts)\u001b[0m\n\u001b[1;32m    395\u001b[0m \u001b[38;5;28;01mfor\u001b[39;00m i \u001b[38;5;129;01min\u001b[39;00m t:\n\u001b[1;32m    396\u001b[0m     vals \u001b[38;5;241m=\u001b[39m _body_fn(i, \u001b[38;5;241m*\u001b[39mvals)\n\u001b[0;32m--> 398\u001b[0m     t\u001b[38;5;241m.\u001b[39mset_description(\u001b[43mprogbar_desc\u001b[49m\u001b[43m(\u001b[49m\u001b[43mi\u001b[49m\u001b[43m)\u001b[49m, refresh\u001b[38;5;241m=\u001b[39m\u001b[38;5;28;01mFalse\u001b[39;00m)\n\u001b[1;32m    399\u001b[0m     \u001b[38;5;28;01mif\u001b[39;00m diagnostics_fn:\n\u001b[1;32m    400\u001b[0m         t\u001b[38;5;241m.\u001b[39mset_postfix_str(diagnostics_fn(vals[\u001b[38;5;241m0\u001b[39m]), refresh\u001b[38;5;241m=\u001b[39m\u001b[38;5;28;01mFalse\u001b[39;00m)\n",
      "File \u001b[0;32m~/git/ComputableAstronomicalDiaries/PythonExperiments/.venv/lib/python3.12/site-packages/numpyro/infer/mcmc.py:160\u001b[0m, in \u001b[0;36m_get_progbar_desc_str\u001b[0;34m(num_warmup, phase, i)\u001b[0m\n\u001b[1;32m    153\u001b[0m \u001b[38;5;250m        \u001b[39m\u001b[38;5;124;03m\"\"\"\u001b[39;00m\n\u001b[1;32m    154\u001b[0m \u001b[38;5;124;03m        Given the current `state`, returns the diagnostics string to\u001b[39;00m\n\u001b[1;32m    155\u001b[0m \u001b[38;5;124;03m        be added to progress bar for diagnostics purpose.\u001b[39;00m\n\u001b[1;32m    156\u001b[0m \u001b[38;5;124;03m        \"\"\"\u001b[39;00m\n\u001b[1;32m    157\u001b[0m         \u001b[38;5;28;01mreturn\u001b[39;00m \u001b[38;5;124m\"\u001b[39m\u001b[38;5;124m\"\u001b[39m\n\u001b[0;32m--> 160\u001b[0m \u001b[38;5;28;01mdef\u001b[39;00m \u001b[38;5;21m_get_progbar_desc_str\u001b[39m(num_warmup, phase, i):\n\u001b[1;32m    161\u001b[0m     \u001b[38;5;28;01mif\u001b[39;00m phase \u001b[38;5;129;01mis\u001b[39;00m \u001b[38;5;129;01mnot\u001b[39;00m \u001b[38;5;28;01mNone\u001b[39;00m:\n\u001b[1;32m    162\u001b[0m         \u001b[38;5;28;01mreturn\u001b[39;00m phase\n",
      "\u001b[0;31mKeyboardInterrupt\u001b[0m: "
     ]
    }
   ],
   "source": [
    "kernel = numpyro.infer.DiscreteHMCGibbs(numpyro.infer.NUTS(model), modified=False)\n",
    "mcmc = numpyro.infer.MCMC(kernel, num_warmup=1000, num_samples=4000, num_chains=1, progress_bar=True)\n",
    "mcmc.run(jax.random.PRNGKey(1234))"
   ]
  },
  {
   "cell_type": "code",
   "execution_count": 35,
   "metadata": {},
   "outputs": [
    {
     "name": "stderr",
     "output_type": "stream",
     "text": [
      "/var/folders/hh/416m3r394s52tpz6ty236cxw0000gn/T/ipykernel_64996/2337679550.py:3: FutureWarning: Some algorithms will automatically enumerate the discrete latent site latent_object of your model. In the future, enumerated sites need to be marked with `infer={'enumerate': 'parallel'}`.\n",
      "  mcmc.run(jax.random.PRNGKey(1234))\n",
      "/var/folders/hh/416m3r394s52tpz6ty236cxw0000gn/T/ipykernel_64996/2337679550.py:3: FutureWarning: Some algorithms will automatically enumerate the discrete latent site latent_reference of your model. In the future, enumerated sites need to be marked with `infer={'enumerate': 'parallel'}`.\n",
      "  mcmc.run(jax.random.PRNGKey(1234))\n",
      "/var/folders/hh/416m3r394s52tpz6ty236cxw0000gn/T/ipykernel_64996/2337679550.py:3: FutureWarning: Some algorithms will automatically enumerate the discrete latent site latent_axis of your model. In the future, enumerated sites need to be marked with `infer={'enumerate': 'parallel'}`.\n",
      "  mcmc.run(jax.random.PRNGKey(1234))\n",
      "/var/folders/hh/416m3r394s52tpz6ty236cxw0000gn/T/ipykernel_64996/2337679550.py:3: FutureWarning: Some algorithms will automatically enumerate the discrete latent site latent_sign of your model. In the future, enumerated sites need to be marked with `infer={'enumerate': 'parallel'}`.\n",
      "  mcmc.run(jax.random.PRNGKey(1234))\n",
      "warmup:   0%|          | 4/5000 [00:03<44:06,  1.89it/s, 1 steps of size 1.07e-03. acc. prob=0.00]  "
     ]
    },
    {
     "ename": "",
     "evalue": "",
     "output_type": "error",
     "traceback": [
      "\u001b[1;31mCannot execute code, session has been disposed. Please try restarting the Kernel."
     ]
    },
    {
     "ename": "",
     "evalue": "",
     "output_type": "error",
     "traceback": [
      "\u001b[1;31mCannot execute code, session has been disposed. Please try restarting the Kernel. \n",
      "\u001b[1;31mView Jupyter <a href='command:jupyter.viewOutput'>log</a> for further details."
     ]
    }
   ],
   "source": [
    "kernel = numpyro.infer.NUTS(model)\n",
    "mcmc = numpyro.infer.MCMC(kernel, num_warmup=1000, num_samples=4000, num_chains=1, progress_bar=True)\n",
    "mcmc.run(jax.random.PRNGKey(1234))"
   ]
  },
  {
   "cell_type": "code",
   "execution_count": null,
   "metadata": {},
   "outputs": [],
   "source": [
    "import datetime\n",
    "now = datetime.datetime.now()"
   ]
  },
  {
   "cell_type": "markdown",
   "metadata": {},
   "source": [
    "## Complete observations only"
   ]
  },
  {
   "cell_type": "code",
   "execution_count": 5,
   "metadata": {},
   "outputs": [],
   "source": [
    "complete_dated_timed_mask = jnp.logical_not(\n",
    "\tjnp.logical_or(\n",
    "\tjnp.logical_or(\n",
    "\tjnp.logical_or(\n",
    "\tjnp.logical_or(\n",
    "\tjnp.logical_or(\n",
    "\tjnp.logical_or(\n",
    "\tobjects_mask,\n",
    "\treferences_mask),\n",
    "\taxes_mask),\n",
    "\tsigns_mask),\n",
    "\tcubits_mask),\n",
    "\tearliest_days != latest_days),\n",
    "\ttimes_mask\n",
    "\t)\n",
    ")"
   ]
  },
  {
   "cell_type": "code",
   "execution_count": 10,
   "metadata": {},
   "outputs": [
    {
     "data": {
      "text/plain": [
       "Array(0.66820824, dtype=float32)"
      ]
     },
     "execution_count": 10,
     "metadata": {},
     "output_type": "execute_result"
    }
   ],
   "source": [
    "complete_dated_timed_mask.mean()"
   ]
  },
  {
   "cell_type": "code",
   "execution_count": 29,
   "metadata": {},
   "outputs": [],
   "source": [
    "# select masked observations\n",
    "mask = complete_dated_timed_mask\n",
    "s_objects = objects[mask]\n",
    "s_references = references[mask]\n",
    "s_axes = axes[mask]\n",
    "s_signs = signs[mask]\n",
    "s_cubits = cubits[mask]\n",
    "s_years = years[mask]\n",
    "s_months = months[mask]\n",
    "s_days = earliest_days[mask]\n",
    "s_times = times[mask]\n",
    "\n",
    "def model():\n",
    "    # number of observations\n",
    "    n = len(s_objects)\n",
    "\n",
    "    # length of a cubit\n",
    "    length_cubit = numpyro.sample('length_cubit', dist.TruncatedNormal(2.0, 1.0, low=0.0))\n",
    "\n",
    "    # observation variance\n",
    "    distance_variance = numpyro.sample('distance_variance', dist.Gamma(0.5,0.5))\n",
    "\n",
    "    # outlier distribution parameters\n",
    "    mu_outlier = numpyro.sample('mu_outlier', dist.Normal(0,1))\n",
    "    sigma_outlier = numpyro.sample('sigma_outlier', dist.Gamma(2.0,0.5))\n",
    "\n",
    "    # outlier probability prior\n",
    "    q = numpyro.sample('q', dist.Beta(1/2,1))\n",
    "\n",
    "    # time offsets for different observation times\n",
    "    # TODO: Unclear if the .to_event(1) is correct. Maybe can be written with a plate?\n",
    "    o_means = numpyro.sample('o_means', dist.Normal(jnp.zeros(n_times), jnp.ones(n_times) * 6.0).to_event(1))\n",
    "    o_vars = numpyro.sample('o_vars', dist.Gamma(jnp.ones(n_times) * 0.5, jnp.ones(n_times) * 0.5).to_event(1))\n",
    "\n",
    "    # the observation times of different observations\n",
    "    tau = numpyro.sample('tau', dist.Normal(o_means[s_times], o_vars[s_times]))\n",
    "\n",
    "    observations_plate = numpyro.plate('observations', n)\n",
    "\n",
    "    # observation dates\n",
    "    date = julian_date_index[year_month_julian_dates[s_years, s_months] + s_days - 1]\n",
    "    \n",
    "    # with observations_plate:\n",
    "    #     # the observation times of different observations\n",
    "    #     time = numpyro.sample('time', dist.Normal(0.0,6.0))\n",
    "        \n",
    "    # true distances at the given observation times\n",
    "    distance_range = object_reference_axis_date_positions[s_objects, s_references, s_axes, date]\n",
    "\n",
    "    true_distance = ((distance_range[...,1]-distance_range[...,0])/(time_range[1] - time_range[0])*(tau-time_range[1]))+distance_range[...,1]\n",
    "\n",
    "    # outlier mixture model\n",
    "    cat = dist.Categorical(probs=jnp.array([1-q,q]))\n",
    "    inlier_dist = dist.Normal(true_distance / length_cubit, distance_variance)\n",
    "    outlier_dist = dist.Normal(mu_outlier, sigma_outlier)\n",
    "    mix = dist.Mixture(cat, [inlier_dist, outlier_dist])\n",
    "    # mix = inlier_dist\n",
    "    \n",
    "    with observations_plate:\n",
    "        c = numpyro.sample('c', mix, obs=s_signs*s_cubits)\n",
    "\n",
    "        # record m for outlier identification\n",
    "        log_probs = mix.component_log_probs(c)\n",
    "        numpyro.deterministic('m', log_probs - jax.nn.logsumexp(log_probs, axis=-1, keepdims=True))"
   ]
  },
  {
   "cell_type": "code",
   "execution_count": 30,
   "metadata": {},
   "outputs": [
    {
     "name": "stderr",
     "output_type": "stream",
     "text": [
      "warmup:   2%|▏         | 75/5000 [00:19<21:22,  3.84it/s, 1023 steps of size 6.55e-06. acc. prob=0.71]\n"
     ]
    },
    {
     "ename": "KeyboardInterrupt",
     "evalue": "",
     "output_type": "error",
     "traceback": [
      "\u001b[0;31m---------------------------------------------------------------------------\u001b[0m",
      "\u001b[0;31mKeyboardInterrupt\u001b[0m                         Traceback (most recent call last)",
      "Cell \u001b[0;32mIn[30], line 3\u001b[0m\n\u001b[1;32m      1\u001b[0m kernel \u001b[38;5;241m=\u001b[39m numpyro\u001b[38;5;241m.\u001b[39minfer\u001b[38;5;241m.\u001b[39mNUTS(model)\n\u001b[1;32m      2\u001b[0m mcmc \u001b[38;5;241m=\u001b[39m numpyro\u001b[38;5;241m.\u001b[39minfer\u001b[38;5;241m.\u001b[39mMCMC(kernel, num_warmup\u001b[38;5;241m=\u001b[39m\u001b[38;5;241m1000\u001b[39m, num_samples\u001b[38;5;241m=\u001b[39m\u001b[38;5;241m4000\u001b[39m, num_chains\u001b[38;5;241m=\u001b[39m\u001b[38;5;241m1\u001b[39m, progress_bar\u001b[38;5;241m=\u001b[39m\u001b[38;5;28;01mTrue\u001b[39;00m)\n\u001b[0;32m----> 3\u001b[0m \u001b[43mmcmc\u001b[49m\u001b[38;5;241;43m.\u001b[39;49m\u001b[43mrun\u001b[49m\u001b[43m(\u001b[49m\u001b[43mjax\u001b[49m\u001b[38;5;241;43m.\u001b[39;49m\u001b[43mrandom\u001b[49m\u001b[38;5;241;43m.\u001b[39;49m\u001b[43mPRNGKey\u001b[49m\u001b[43m(\u001b[49m\u001b[38;5;241;43m1234\u001b[39;49m\u001b[43m)\u001b[49m\u001b[43m)\u001b[49m\n",
      "File \u001b[0;32m~/git/ComputableAstronomicalDiaries/PythonExperiments/.venv/lib/python3.12/site-packages/numpyro/infer/mcmc.py:682\u001b[0m, in \u001b[0;36mMCMC.run\u001b[0;34m(self, rng_key, extra_fields, init_params, *args, **kwargs)\u001b[0m\n\u001b[1;32m    680\u001b[0m map_args \u001b[38;5;241m=\u001b[39m (rng_key, init_state, init_params)\n\u001b[1;32m    681\u001b[0m \u001b[38;5;28;01mif\u001b[39;00m \u001b[38;5;28mself\u001b[39m\u001b[38;5;241m.\u001b[39mnum_chains \u001b[38;5;241m==\u001b[39m \u001b[38;5;241m1\u001b[39m:\n\u001b[0;32m--> 682\u001b[0m     states_flat, last_state \u001b[38;5;241m=\u001b[39m \u001b[43mpartial_map_fn\u001b[49m\u001b[43m(\u001b[49m\u001b[43mmap_args\u001b[49m\u001b[43m)\u001b[49m\n\u001b[1;32m    683\u001b[0m     states \u001b[38;5;241m=\u001b[39m jax\u001b[38;5;241m.\u001b[39mtree\u001b[38;5;241m.\u001b[39mmap(\u001b[38;5;28;01mlambda\u001b[39;00m x: x[jnp\u001b[38;5;241m.\u001b[39mnewaxis, \u001b[38;5;241m.\u001b[39m\u001b[38;5;241m.\u001b[39m\u001b[38;5;241m.\u001b[39m], states_flat)\n\u001b[1;32m    684\u001b[0m \u001b[38;5;28;01melse\u001b[39;00m:\n",
      "File \u001b[0;32m~/git/ComputableAstronomicalDiaries/PythonExperiments/.venv/lib/python3.12/site-packages/numpyro/infer/mcmc.py:467\u001b[0m, in \u001b[0;36mMCMC._single_chain_mcmc\u001b[0;34m(self, init, args, kwargs, collect_fields, remove_sites)\u001b[0m\n\u001b[1;32m    461\u001b[0m collection_size \u001b[38;5;241m=\u001b[39m \u001b[38;5;28mself\u001b[39m\u001b[38;5;241m.\u001b[39m_collection_params[\u001b[38;5;124m\"\u001b[39m\u001b[38;5;124mcollection_size\u001b[39m\u001b[38;5;124m\"\u001b[39m]\n\u001b[1;32m    462\u001b[0m collection_size \u001b[38;5;241m=\u001b[39m (\n\u001b[1;32m    463\u001b[0m     collection_size\n\u001b[1;32m    464\u001b[0m     \u001b[38;5;28;01mif\u001b[39;00m collection_size \u001b[38;5;129;01mis\u001b[39;00m \u001b[38;5;28;01mNone\u001b[39;00m\n\u001b[1;32m    465\u001b[0m     \u001b[38;5;28;01melse\u001b[39;00m collection_size \u001b[38;5;241m/\u001b[39m\u001b[38;5;241m/\u001b[39m \u001b[38;5;28mself\u001b[39m\u001b[38;5;241m.\u001b[39mthinning\n\u001b[1;32m    466\u001b[0m )\n\u001b[0;32m--> 467\u001b[0m collect_vals \u001b[38;5;241m=\u001b[39m \u001b[43mfori_collect\u001b[49m\u001b[43m(\u001b[49m\n\u001b[1;32m    468\u001b[0m \u001b[43m    \u001b[49m\u001b[43mlower_idx\u001b[49m\u001b[43m,\u001b[49m\n\u001b[1;32m    469\u001b[0m \u001b[43m    \u001b[49m\u001b[43mupper_idx\u001b[49m\u001b[43m,\u001b[49m\n\u001b[1;32m    470\u001b[0m \u001b[43m    \u001b[49m\u001b[43msample_fn\u001b[49m\u001b[43m,\u001b[49m\n\u001b[1;32m    471\u001b[0m \u001b[43m    \u001b[49m\u001b[43minit_val\u001b[49m\u001b[43m,\u001b[49m\n\u001b[1;32m    472\u001b[0m \u001b[43m    \u001b[49m\u001b[43mtransform\u001b[49m\u001b[38;5;241;43m=\u001b[39;49m\u001b[43m_collect_fn\u001b[49m\u001b[43m(\u001b[49m\u001b[43mcollect_fields\u001b[49m\u001b[43m,\u001b[49m\u001b[43m \u001b[49m\u001b[43mremove_sites\u001b[49m\u001b[43m)\u001b[49m\u001b[43m,\u001b[49m\n\u001b[1;32m    473\u001b[0m \u001b[43m    \u001b[49m\u001b[43mprogbar\u001b[49m\u001b[38;5;241;43m=\u001b[39;49m\u001b[38;5;28;43mself\u001b[39;49m\u001b[38;5;241;43m.\u001b[39;49m\u001b[43mprogress_bar\u001b[49m\u001b[43m,\u001b[49m\n\u001b[1;32m    474\u001b[0m \u001b[43m    \u001b[49m\u001b[43mreturn_last_val\u001b[49m\u001b[38;5;241;43m=\u001b[39;49m\u001b[38;5;28;43;01mTrue\u001b[39;49;00m\u001b[43m,\u001b[49m\n\u001b[1;32m    475\u001b[0m \u001b[43m    \u001b[49m\u001b[43mthinning\u001b[49m\u001b[38;5;241;43m=\u001b[39;49m\u001b[38;5;28;43mself\u001b[39;49m\u001b[38;5;241;43m.\u001b[39;49m\u001b[43mthinning\u001b[49m\u001b[43m,\u001b[49m\n\u001b[1;32m    476\u001b[0m \u001b[43m    \u001b[49m\u001b[43mcollection_size\u001b[49m\u001b[38;5;241;43m=\u001b[39;49m\u001b[43mcollection_size\u001b[49m\u001b[43m,\u001b[49m\n\u001b[1;32m    477\u001b[0m \u001b[43m    \u001b[49m\u001b[43mprogbar_desc\u001b[49m\u001b[38;5;241;43m=\u001b[39;49m\u001b[43mpartial\u001b[49m\u001b[43m(\u001b[49m\u001b[43m_get_progbar_desc_str\u001b[49m\u001b[43m,\u001b[49m\u001b[43m \u001b[49m\u001b[43mlower_idx\u001b[49m\u001b[43m,\u001b[49m\u001b[43m \u001b[49m\u001b[43mphase\u001b[49m\u001b[43m)\u001b[49m\u001b[43m,\u001b[49m\n\u001b[1;32m    478\u001b[0m \u001b[43m    \u001b[49m\u001b[43mdiagnostics_fn\u001b[49m\u001b[38;5;241;43m=\u001b[39;49m\u001b[43mdiagnostics\u001b[49m\u001b[43m,\u001b[49m\n\u001b[1;32m    479\u001b[0m \u001b[43m    \u001b[49m\u001b[43mnum_chains\u001b[49m\u001b[38;5;241;43m=\u001b[39;49m\u001b[38;5;28;43mself\u001b[39;49m\u001b[38;5;241;43m.\u001b[39;49m\u001b[43mnum_chains\u001b[49m\n\u001b[1;32m    480\u001b[0m \u001b[43m    \u001b[49m\u001b[38;5;28;43;01mif\u001b[39;49;00m\u001b[43m \u001b[49m\u001b[43m(\u001b[49m\u001b[38;5;28;43mcallable\u001b[39;49m\u001b[43m(\u001b[49m\u001b[38;5;28;43mself\u001b[39;49m\u001b[38;5;241;43m.\u001b[39;49m\u001b[43mchain_method\u001b[49m\u001b[43m)\u001b[49m\u001b[43m \u001b[49m\u001b[38;5;129;43;01mor\u001b[39;49;00m\u001b[43m \u001b[49m\u001b[38;5;28;43mself\u001b[39;49m\u001b[38;5;241;43m.\u001b[39;49m\u001b[43mchain_method\u001b[49m\u001b[43m \u001b[49m\u001b[38;5;241;43m==\u001b[39;49m\u001b[43m \u001b[49m\u001b[38;5;124;43m\"\u001b[39;49m\u001b[38;5;124;43mparallel\u001b[39;49m\u001b[38;5;124;43m\"\u001b[39;49m\u001b[43m)\u001b[49m\n\u001b[1;32m    481\u001b[0m \u001b[43m    \u001b[49m\u001b[38;5;28;43;01melse\u001b[39;49;00m\u001b[43m \u001b[49m\u001b[38;5;241;43m1\u001b[39;49m\u001b[43m,\u001b[49m\n\u001b[1;32m    482\u001b[0m \u001b[43m\u001b[49m\u001b[43m)\u001b[49m\n\u001b[1;32m    483\u001b[0m states, last_val \u001b[38;5;241m=\u001b[39m collect_vals\n\u001b[1;32m    484\u001b[0m \u001b[38;5;66;03m# Get first argument of type `HMCState`\u001b[39;00m\n",
      "File \u001b[0;32m~/git/ComputableAstronomicalDiaries/PythonExperiments/.venv/lib/python3.12/site-packages/numpyro/util.py:398\u001b[0m, in \u001b[0;36mfori_collect\u001b[0;34m(lower, upper, body_fun, init_val, transform, progbar, return_last_val, collection_size, thinning, **progbar_opts)\u001b[0m\n\u001b[1;32m    395\u001b[0m \u001b[38;5;28;01mfor\u001b[39;00m i \u001b[38;5;129;01min\u001b[39;00m t:\n\u001b[1;32m    396\u001b[0m     vals \u001b[38;5;241m=\u001b[39m _body_fn(i, \u001b[38;5;241m*\u001b[39mvals)\n\u001b[0;32m--> 398\u001b[0m     t\u001b[38;5;241m.\u001b[39mset_description(\u001b[43mprogbar_desc\u001b[49m\u001b[43m(\u001b[49m\u001b[43mi\u001b[49m\u001b[43m)\u001b[49m, refresh\u001b[38;5;241m=\u001b[39m\u001b[38;5;28;01mFalse\u001b[39;00m)\n\u001b[1;32m    399\u001b[0m     \u001b[38;5;28;01mif\u001b[39;00m diagnostics_fn:\n\u001b[1;32m    400\u001b[0m         t\u001b[38;5;241m.\u001b[39mset_postfix_str(diagnostics_fn(vals[\u001b[38;5;241m0\u001b[39m]), refresh\u001b[38;5;241m=\u001b[39m\u001b[38;5;28;01mFalse\u001b[39;00m)\n",
      "File \u001b[0;32m~/git/ComputableAstronomicalDiaries/PythonExperiments/.venv/lib/python3.12/site-packages/numpyro/infer/mcmc.py:160\u001b[0m, in \u001b[0;36m_get_progbar_desc_str\u001b[0;34m(num_warmup, phase, i)\u001b[0m\n\u001b[1;32m    153\u001b[0m \u001b[38;5;250m        \u001b[39m\u001b[38;5;124;03m\"\"\"\u001b[39;00m\n\u001b[1;32m    154\u001b[0m \u001b[38;5;124;03m        Given the current `state`, returns the diagnostics string to\u001b[39;00m\n\u001b[1;32m    155\u001b[0m \u001b[38;5;124;03m        be added to progress bar for diagnostics purpose.\u001b[39;00m\n\u001b[1;32m    156\u001b[0m \u001b[38;5;124;03m        \"\"\"\u001b[39;00m\n\u001b[1;32m    157\u001b[0m         \u001b[38;5;28;01mreturn\u001b[39;00m \u001b[38;5;124m\"\u001b[39m\u001b[38;5;124m\"\u001b[39m\n\u001b[0;32m--> 160\u001b[0m \u001b[38;5;28;01mdef\u001b[39;00m \u001b[38;5;21m_get_progbar_desc_str\u001b[39m(num_warmup, phase, i):\n\u001b[1;32m    161\u001b[0m     \u001b[38;5;28;01mif\u001b[39;00m phase \u001b[38;5;129;01mis\u001b[39;00m \u001b[38;5;129;01mnot\u001b[39;00m \u001b[38;5;28;01mNone\u001b[39;00m:\n\u001b[1;32m    162\u001b[0m         \u001b[38;5;28;01mreturn\u001b[39;00m phase\n",
      "\u001b[0;31mKeyboardInterrupt\u001b[0m: "
     ]
    }
   ],
   "source": [
    "kernel = numpyro.infer.NUTS(model)\n",
    "mcmc = numpyro.infer.MCMC(kernel, num_warmup=1000, num_samples=4000, num_chains=1, progress_bar=True)\n",
    "mcmc.run(jax.random.PRNGKey(1234))"
   ]
  },
  {
   "cell_type": "code",
   "execution_count": 13,
   "metadata": {},
   "outputs": [
    {
     "data": {
      "text/plain": [
       "Array([0, 0, 0, ..., 0, 0, 0], dtype=int32)"
      ]
     },
     "execution_count": 13,
     "metadata": {},
     "output_type": "execute_result"
    }
   ],
   "source": [
    "s_objects"
   ]
  },
  {
   "cell_type": "code",
   "execution_count": null,
   "metadata": {},
   "outputs": [],
   "source": []
  }
 ],
 "metadata": {
  "kernelspec": {
   "display_name": ".venv",
   "language": "python",
   "name": "python3"
  },
  "language_info": {
   "codemirror_mode": {
    "name": "ipython",
    "version": 3
   },
   "file_extension": ".py",
   "mimetype": "text/x-python",
   "name": "python",
   "nbconvert_exporter": "python",
   "pygments_lexer": "ipython3",
   "version": "3.12.4"
  }
 },
 "nbformat": 4,
 "nbformat_minor": 2
}
