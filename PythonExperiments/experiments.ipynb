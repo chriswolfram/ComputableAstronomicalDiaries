{
 "cells": [
  {
   "cell_type": "code",
   "execution_count": 2,
   "metadata": {},
   "outputs": [],
   "source": [
    "import numpy as np\n",
    "import numpyro\n",
    "import numpyro.distributions as dist\n",
    "import jax.numpy as jnp\n",
    "import jax\n",
    "numpyro.set_host_device_count(4)"
   ]
  },
  {
   "cell_type": "code",
   "execution_count": 24,
   "metadata": {},
   "outputs": [],
   "source": [
    "import pickle\n",
    "\n",
    "# Unpickle the variables\n",
    "with open(\"/Users/christopher/git/ComputableAstronomicalDiaries/PythonExperiments/vars.pkl\", \"rb\") as f:\n",
    "    loaded_variables = pickle.load(f)\n",
    "\n",
    "# Access the variables\n",
    "n_objects = loaded_variables[\"n_objects\"]\n",
    "n_references = loaded_variables[\"n_references\"]\n",
    "n_times = loaded_variables[\"n_times\"]\n",
    "time_range = loaded_variables[\"time_range\"]\n",
    "cubits = loaded_variables[\"cubits\"]\n",
    "cubits_mask = loaded_variables[\"cubits_mask\"]\n",
    "objects = loaded_variables[\"objects\"]\n",
    "objects_mask = loaded_variables[\"objects_mask\"]\n",
    "references = loaded_variables[\"references\"]\n",
    "references_mask = loaded_variables[\"references_mask\"]\n",
    "axes = loaded_variables[\"axes\"]\n",
    "axes_mask = loaded_variables[\"axes_mask\"]\n",
    "signs = loaded_variables[\"signs\"]\n",
    "signs_mask = loaded_variables[\"signs_mask\"]\n",
    "years = loaded_variables[\"years\"]\n",
    "years_mask = loaded_variables[\"years_mask\"]\n",
    "months = loaded_variables[\"months\"]\n",
    "months_mask = loaded_variables[\"months_mask\"]\n",
    "earliest_days = loaded_variables[\"earliest_days\"]\n",
    "latest_days = loaded_variables[\"latest_days\"]\n",
    "year_month_julian_dates = loaded_variables[\"year_month_julian_dates\"]\n",
    "julian_date_index = loaded_variables[\"julian_date_index\"]\n",
    "object_reference_axis_date_positions = loaded_variables[\"object_reference_axis_date_positions\"]\n",
    "times = loaded_variables[\"times\"]\n",
    "times_mask = loaded_variables[\"times_mask\"]"
   ]
  },
  {
   "cell_type": "code",
   "execution_count": 17,
   "metadata": {},
   "outputs": [],
   "source": [
    "from numpyro.ops.indexing import Vindex\n",
    "def model():\n",
    "    # number of observations\n",
    "    n = len(objects)\n",
    "\n",
    "    # length of a cubit\n",
    "    length_cubit = numpyro.sample('length_cubit', dist.TruncatedNormal(2.0, 1.0, low=0.0))\n",
    "\n",
    "    # observation variance\n",
    "    distance_variance = numpyro.sample('distance_variance', dist.Gamma(0.5,0.5))\n",
    "\n",
    "    # outlier distribution parameters\n",
    "    mu_outlier = numpyro.sample('mu_outlier', dist.Normal(0,1))\n",
    "    sigma_outlier = numpyro.sample('sigma_outlier', dist.Gamma(2.0,0.5))\n",
    "\n",
    "    # categorical priors\n",
    "    object_dist = numpyro.sample('object_dist', dist.Dirichlet(jnp.ones(n_objects)))\n",
    "    reference_dist = numpyro.sample('reference_dist', dist.Dirichlet(jnp.ones(n_references)))\n",
    "    axis_dist = numpyro.sample('axis_dist', dist.Dirichlet(jnp.ones(2)))\n",
    "    sign_dist = numpyro.sample('sign_dist', dist.Dirichlet(jnp.ones(2)))\n",
    "\n",
    "    # outlier probability prior\n",
    "    q = numpyro.sample('q', dist.Beta(1/2,1))\n",
    "\n",
    "    with numpyro.plate('observations', n):\n",
    "\n",
    "        # observed objects\n",
    "        # object_probs = jax.nn.one_hot(objects,n_objects)\n",
    "        # object_probs = object_probs.at[objects_mask,:].set(object_dist)\n",
    "        # latent_object = numpyro.sample('latent_object', dist.Categorical(probs=object_probs))\n",
    "        latent_object = jnp.abs(objects)\n",
    "    \n",
    "        # observed references\n",
    "        # reference_probs = jax.nn.one_hot(references,n_references)\n",
    "        # reference_probs = reference_probs.at[references_mask,:].set(reference_dist)\n",
    "        # latent_reference = numpyro.sample('latent_reference', dist.Categorical(probs=reference_probs))\n",
    "        latent_reference = jnp.abs(references)\n",
    "    \n",
    "        # observed relation axes\n",
    "        axis_probs = jax.nn.one_hot(axes,2)\n",
    "        axis_probs = axis_probs.at[axes_mask,:].set(axis_dist)\n",
    "        latent_axis = numpyro.sample('latent_axis', dist.Categorical(probs=axis_probs))\n",
    "        # latent_axis = jnp.abs(axes)\n",
    "    \n",
    "        # observed relation signs\n",
    "        # sign_probs = jax.nn.one_hot(signs,2)\n",
    "        # sign_probs = sign_probs.at[signs_mask,:].set(sign_dist)\n",
    "        # latent_sign_id = numpyro.sample('latent_sign', dist.Categorical(probs=sign_probs))\n",
    "        latent_sign_id = jnp.abs(signs)\n",
    "        latent_sign = latent_sign_id*2-1\n",
    "    \n",
    "        # observation dates\n",
    "        date = julian_date_index[year_month_julian_dates[years, months] + earliest_days - 1]\n",
    "    \n",
    "        # the observation times of different observations\n",
    "        time = numpyro.sample('time', dist.Normal(0.0,6))\n",
    "        \n",
    "        # true distances at the given observation times\n",
    "        distance_range = Vindex(object_reference_axis_date_positions)[latent_object, latent_reference, latent_axis, date]\n",
    "        # distance_range = object_reference_axis_date_positions[latent_object, latent_reference, latent_axis, date]\n",
    "    \n",
    "        true_distance = ((distance_range[...,1]-distance_range[...,0])/(time_range[1] - time_range[0])*(time-time_range[1]))+distance_range[...,1]\n",
    "\n",
    "        # outlier mixture model\n",
    "        cat = dist.Categorical(probs=jnp.array([1-q,q]))\n",
    "        inlier_dist = dist.Normal(latent_sign * true_distance / length_cubit, distance_variance)\n",
    "        outlier_dist = dist.Normal(mu_outlier, sigma_outlier)\n",
    "        mix = dist.Mixture(cat, [inlier_dist, outlier_dist])\n",
    "        # mix = inlier_dist\n",
    "    \n",
    "        with numpyro.handlers.mask(mask=jnp.logical_not(cubits_mask)):\n",
    "            c = numpyro.sample('c', mix, obs=cubits)\n",
    "\n",
    "        # record m for outlier identification\n",
    "        # print(c.shape)\n",
    "        # log_probs = mix.component_log_probs(c)\n",
    "        # numpyro.deterministic('m', log_probs - jax.nn.logsumexp(log_probs, axis=-1, keepdims=True))"
   ]
  },
  {
   "cell_type": "code",
   "execution_count": 18,
   "metadata": {},
   "outputs": [
    {
     "name": "stderr",
     "output_type": "stream",
     "text": [
      "/var/folders/hh/416m3r394s52tpz6ty236cxw0000gn/T/ipykernel_46880/2337679550.py:3: FutureWarning: Some algorithms will automatically enumerate the discrete latent site latent_axis of your model. In the future, enumerated sites need to be marked with `infer={'enumerate': 'parallel'}`.\n",
      "  mcmc.run(jax.random.PRNGKey(1234))\n",
      "warmup:   0%|          | 6/5000 [00:05<1:22:59,  1.00it/s, 1023 steps of size 1.55e-03. acc. prob=0.32]\n"
     ]
    },
    {
     "ename": "KeyboardInterrupt",
     "evalue": "",
     "output_type": "error",
     "traceback": [
      "\u001b[0;31m---------------------------------------------------------------------------\u001b[0m",
      "\u001b[0;31mKeyboardInterrupt\u001b[0m                         Traceback (most recent call last)",
      "Cell \u001b[0;32mIn[18], line 3\u001b[0m\n\u001b[1;32m      1\u001b[0m kernel \u001b[38;5;241m=\u001b[39m numpyro\u001b[38;5;241m.\u001b[39minfer\u001b[38;5;241m.\u001b[39mNUTS(model)\n\u001b[1;32m      2\u001b[0m mcmc \u001b[38;5;241m=\u001b[39m numpyro\u001b[38;5;241m.\u001b[39minfer\u001b[38;5;241m.\u001b[39mMCMC(kernel, num_warmup\u001b[38;5;241m=\u001b[39m\u001b[38;5;241m1000\u001b[39m, num_samples\u001b[38;5;241m=\u001b[39m\u001b[38;5;241m4000\u001b[39m, num_chains\u001b[38;5;241m=\u001b[39m\u001b[38;5;241m1\u001b[39m, progress_bar\u001b[38;5;241m=\u001b[39m\u001b[38;5;28;01mTrue\u001b[39;00m)\n\u001b[0;32m----> 3\u001b[0m \u001b[43mmcmc\u001b[49m\u001b[38;5;241;43m.\u001b[39;49m\u001b[43mrun\u001b[49m\u001b[43m(\u001b[49m\u001b[43mjax\u001b[49m\u001b[38;5;241;43m.\u001b[39;49m\u001b[43mrandom\u001b[49m\u001b[38;5;241;43m.\u001b[39;49m\u001b[43mPRNGKey\u001b[49m\u001b[43m(\u001b[49m\u001b[38;5;241;43m1234\u001b[39;49m\u001b[43m)\u001b[49m\u001b[43m)\u001b[49m\n",
      "File \u001b[0;32m~/git/ComputableAstronomicalDiaries/PythonExperiments/.venv/lib/python3.12/site-packages/numpyro/infer/mcmc.py:682\u001b[0m, in \u001b[0;36mMCMC.run\u001b[0;34m(self, rng_key, extra_fields, init_params, *args, **kwargs)\u001b[0m\n\u001b[1;32m    680\u001b[0m map_args \u001b[38;5;241m=\u001b[39m (rng_key, init_state, init_params)\n\u001b[1;32m    681\u001b[0m \u001b[38;5;28;01mif\u001b[39;00m \u001b[38;5;28mself\u001b[39m\u001b[38;5;241m.\u001b[39mnum_chains \u001b[38;5;241m==\u001b[39m \u001b[38;5;241m1\u001b[39m:\n\u001b[0;32m--> 682\u001b[0m     states_flat, last_state \u001b[38;5;241m=\u001b[39m \u001b[43mpartial_map_fn\u001b[49m\u001b[43m(\u001b[49m\u001b[43mmap_args\u001b[49m\u001b[43m)\u001b[49m\n\u001b[1;32m    683\u001b[0m     states \u001b[38;5;241m=\u001b[39m jax\u001b[38;5;241m.\u001b[39mtree\u001b[38;5;241m.\u001b[39mmap(\u001b[38;5;28;01mlambda\u001b[39;00m x: x[jnp\u001b[38;5;241m.\u001b[39mnewaxis, \u001b[38;5;241m.\u001b[39m\u001b[38;5;241m.\u001b[39m\u001b[38;5;241m.\u001b[39m], states_flat)\n\u001b[1;32m    684\u001b[0m \u001b[38;5;28;01melse\u001b[39;00m:\n",
      "File \u001b[0;32m~/git/ComputableAstronomicalDiaries/PythonExperiments/.venv/lib/python3.12/site-packages/numpyro/infer/mcmc.py:467\u001b[0m, in \u001b[0;36mMCMC._single_chain_mcmc\u001b[0;34m(self, init, args, kwargs, collect_fields, remove_sites)\u001b[0m\n\u001b[1;32m    461\u001b[0m collection_size \u001b[38;5;241m=\u001b[39m \u001b[38;5;28mself\u001b[39m\u001b[38;5;241m.\u001b[39m_collection_params[\u001b[38;5;124m\"\u001b[39m\u001b[38;5;124mcollection_size\u001b[39m\u001b[38;5;124m\"\u001b[39m]\n\u001b[1;32m    462\u001b[0m collection_size \u001b[38;5;241m=\u001b[39m (\n\u001b[1;32m    463\u001b[0m     collection_size\n\u001b[1;32m    464\u001b[0m     \u001b[38;5;28;01mif\u001b[39;00m collection_size \u001b[38;5;129;01mis\u001b[39;00m \u001b[38;5;28;01mNone\u001b[39;00m\n\u001b[1;32m    465\u001b[0m     \u001b[38;5;28;01melse\u001b[39;00m collection_size \u001b[38;5;241m/\u001b[39m\u001b[38;5;241m/\u001b[39m \u001b[38;5;28mself\u001b[39m\u001b[38;5;241m.\u001b[39mthinning\n\u001b[1;32m    466\u001b[0m )\n\u001b[0;32m--> 467\u001b[0m collect_vals \u001b[38;5;241m=\u001b[39m \u001b[43mfori_collect\u001b[49m\u001b[43m(\u001b[49m\n\u001b[1;32m    468\u001b[0m \u001b[43m    \u001b[49m\u001b[43mlower_idx\u001b[49m\u001b[43m,\u001b[49m\n\u001b[1;32m    469\u001b[0m \u001b[43m    \u001b[49m\u001b[43mupper_idx\u001b[49m\u001b[43m,\u001b[49m\n\u001b[1;32m    470\u001b[0m \u001b[43m    \u001b[49m\u001b[43msample_fn\u001b[49m\u001b[43m,\u001b[49m\n\u001b[1;32m    471\u001b[0m \u001b[43m    \u001b[49m\u001b[43minit_val\u001b[49m\u001b[43m,\u001b[49m\n\u001b[1;32m    472\u001b[0m \u001b[43m    \u001b[49m\u001b[43mtransform\u001b[49m\u001b[38;5;241;43m=\u001b[39;49m\u001b[43m_collect_fn\u001b[49m\u001b[43m(\u001b[49m\u001b[43mcollect_fields\u001b[49m\u001b[43m,\u001b[49m\u001b[43m \u001b[49m\u001b[43mremove_sites\u001b[49m\u001b[43m)\u001b[49m\u001b[43m,\u001b[49m\n\u001b[1;32m    473\u001b[0m \u001b[43m    \u001b[49m\u001b[43mprogbar\u001b[49m\u001b[38;5;241;43m=\u001b[39;49m\u001b[38;5;28;43mself\u001b[39;49m\u001b[38;5;241;43m.\u001b[39;49m\u001b[43mprogress_bar\u001b[49m\u001b[43m,\u001b[49m\n\u001b[1;32m    474\u001b[0m \u001b[43m    \u001b[49m\u001b[43mreturn_last_val\u001b[49m\u001b[38;5;241;43m=\u001b[39;49m\u001b[38;5;28;43;01mTrue\u001b[39;49;00m\u001b[43m,\u001b[49m\n\u001b[1;32m    475\u001b[0m \u001b[43m    \u001b[49m\u001b[43mthinning\u001b[49m\u001b[38;5;241;43m=\u001b[39;49m\u001b[38;5;28;43mself\u001b[39;49m\u001b[38;5;241;43m.\u001b[39;49m\u001b[43mthinning\u001b[49m\u001b[43m,\u001b[49m\n\u001b[1;32m    476\u001b[0m \u001b[43m    \u001b[49m\u001b[43mcollection_size\u001b[49m\u001b[38;5;241;43m=\u001b[39;49m\u001b[43mcollection_size\u001b[49m\u001b[43m,\u001b[49m\n\u001b[1;32m    477\u001b[0m \u001b[43m    \u001b[49m\u001b[43mprogbar_desc\u001b[49m\u001b[38;5;241;43m=\u001b[39;49m\u001b[43mpartial\u001b[49m\u001b[43m(\u001b[49m\u001b[43m_get_progbar_desc_str\u001b[49m\u001b[43m,\u001b[49m\u001b[43m \u001b[49m\u001b[43mlower_idx\u001b[49m\u001b[43m,\u001b[49m\u001b[43m \u001b[49m\u001b[43mphase\u001b[49m\u001b[43m)\u001b[49m\u001b[43m,\u001b[49m\n\u001b[1;32m    478\u001b[0m \u001b[43m    \u001b[49m\u001b[43mdiagnostics_fn\u001b[49m\u001b[38;5;241;43m=\u001b[39;49m\u001b[43mdiagnostics\u001b[49m\u001b[43m,\u001b[49m\n\u001b[1;32m    479\u001b[0m \u001b[43m    \u001b[49m\u001b[43mnum_chains\u001b[49m\u001b[38;5;241;43m=\u001b[39;49m\u001b[38;5;28;43mself\u001b[39;49m\u001b[38;5;241;43m.\u001b[39;49m\u001b[43mnum_chains\u001b[49m\n\u001b[1;32m    480\u001b[0m \u001b[43m    \u001b[49m\u001b[38;5;28;43;01mif\u001b[39;49;00m\u001b[43m \u001b[49m\u001b[43m(\u001b[49m\u001b[38;5;28;43mcallable\u001b[39;49m\u001b[43m(\u001b[49m\u001b[38;5;28;43mself\u001b[39;49m\u001b[38;5;241;43m.\u001b[39;49m\u001b[43mchain_method\u001b[49m\u001b[43m)\u001b[49m\u001b[43m \u001b[49m\u001b[38;5;129;43;01mor\u001b[39;49;00m\u001b[43m \u001b[49m\u001b[38;5;28;43mself\u001b[39;49m\u001b[38;5;241;43m.\u001b[39;49m\u001b[43mchain_method\u001b[49m\u001b[43m \u001b[49m\u001b[38;5;241;43m==\u001b[39;49m\u001b[43m \u001b[49m\u001b[38;5;124;43m\"\u001b[39;49m\u001b[38;5;124;43mparallel\u001b[39;49m\u001b[38;5;124;43m\"\u001b[39;49m\u001b[43m)\u001b[49m\n\u001b[1;32m    481\u001b[0m \u001b[43m    \u001b[49m\u001b[38;5;28;43;01melse\u001b[39;49;00m\u001b[43m \u001b[49m\u001b[38;5;241;43m1\u001b[39;49m\u001b[43m,\u001b[49m\n\u001b[1;32m    482\u001b[0m \u001b[43m\u001b[49m\u001b[43m)\u001b[49m\n\u001b[1;32m    483\u001b[0m states, last_val \u001b[38;5;241m=\u001b[39m collect_vals\n\u001b[1;32m    484\u001b[0m \u001b[38;5;66;03m# Get first argument of type `HMCState`\u001b[39;00m\n",
      "File \u001b[0;32m~/git/ComputableAstronomicalDiaries/PythonExperiments/.venv/lib/python3.12/site-packages/numpyro/util.py:398\u001b[0m, in \u001b[0;36mfori_collect\u001b[0;34m(lower, upper, body_fun, init_val, transform, progbar, return_last_val, collection_size, thinning, **progbar_opts)\u001b[0m\n\u001b[1;32m    395\u001b[0m \u001b[38;5;28;01mfor\u001b[39;00m i \u001b[38;5;129;01min\u001b[39;00m t:\n\u001b[1;32m    396\u001b[0m     vals \u001b[38;5;241m=\u001b[39m _body_fn(i, \u001b[38;5;241m*\u001b[39mvals)\n\u001b[0;32m--> 398\u001b[0m     t\u001b[38;5;241m.\u001b[39mset_description(\u001b[43mprogbar_desc\u001b[49m\u001b[43m(\u001b[49m\u001b[43mi\u001b[49m\u001b[43m)\u001b[49m, refresh\u001b[38;5;241m=\u001b[39m\u001b[38;5;28;01mFalse\u001b[39;00m)\n\u001b[1;32m    399\u001b[0m     \u001b[38;5;28;01mif\u001b[39;00m diagnostics_fn:\n\u001b[1;32m    400\u001b[0m         t\u001b[38;5;241m.\u001b[39mset_postfix_str(diagnostics_fn(vals[\u001b[38;5;241m0\u001b[39m]), refresh\u001b[38;5;241m=\u001b[39m\u001b[38;5;28;01mFalse\u001b[39;00m)\n",
      "File \u001b[0;32m~/git/ComputableAstronomicalDiaries/PythonExperiments/.venv/lib/python3.12/site-packages/numpyro/infer/mcmc.py:160\u001b[0m, in \u001b[0;36m_get_progbar_desc_str\u001b[0;34m(num_warmup, phase, i)\u001b[0m\n\u001b[1;32m    153\u001b[0m \u001b[38;5;250m        \u001b[39m\u001b[38;5;124;03m\"\"\"\u001b[39;00m\n\u001b[1;32m    154\u001b[0m \u001b[38;5;124;03m        Given the current `state`, returns the diagnostics string to\u001b[39;00m\n\u001b[1;32m    155\u001b[0m \u001b[38;5;124;03m        be added to progress bar for diagnostics purpose.\u001b[39;00m\n\u001b[1;32m    156\u001b[0m \u001b[38;5;124;03m        \"\"\"\u001b[39;00m\n\u001b[1;32m    157\u001b[0m         \u001b[38;5;28;01mreturn\u001b[39;00m \u001b[38;5;124m\"\u001b[39m\u001b[38;5;124m\"\u001b[39m\n\u001b[0;32m--> 160\u001b[0m \u001b[38;5;28;01mdef\u001b[39;00m \u001b[38;5;21m_get_progbar_desc_str\u001b[39m(num_warmup, phase, i):\n\u001b[1;32m    161\u001b[0m     \u001b[38;5;28;01mif\u001b[39;00m phase \u001b[38;5;129;01mis\u001b[39;00m \u001b[38;5;129;01mnot\u001b[39;00m \u001b[38;5;28;01mNone\u001b[39;00m:\n\u001b[1;32m    162\u001b[0m         \u001b[38;5;28;01mreturn\u001b[39;00m phase\n",
      "\u001b[0;31mKeyboardInterrupt\u001b[0m: "
     ]
    }
   ],
   "source": [
    "kernel = numpyro.infer.NUTS(model)\n",
    "mcmc = numpyro.infer.MCMC(kernel, num_warmup=1000, num_samples=4000, num_chains=1, progress_bar=True)\n",
    "mcmc.run(jax.random.PRNGKey(1234))"
   ]
  },
  {
   "cell_type": "code",
   "execution_count": null,
   "metadata": {},
   "outputs": [],
   "source": [
    "import datetime\n",
    "now = datetime.datetime.now()"
   ]
  },
  {
   "cell_type": "markdown",
   "metadata": {},
   "source": [
    "## Complete observations only"
   ]
  },
  {
   "cell_type": "code",
   "execution_count": 5,
   "metadata": {},
   "outputs": [],
   "source": [
    "complete_dated_timed_mask = jnp.logical_not(\n",
    "\tjnp.logical_or(\n",
    "\tjnp.logical_or(\n",
    "\tjnp.logical_or(\n",
    "\tjnp.logical_or(\n",
    "\tjnp.logical_or(\n",
    "\tjnp.logical_or(\n",
    "\tobjects_mask,\n",
    "\treferences_mask),\n",
    "\taxes_mask),\n",
    "\tsigns_mask),\n",
    "\tcubits_mask),\n",
    "\tearliest_days != latest_days),\n",
    "\ttimes_mask\n",
    "\t)\n",
    ")"
   ]
  },
  {
   "cell_type": "code",
   "execution_count": 10,
   "metadata": {},
   "outputs": [
    {
     "data": {
      "text/plain": [
       "Array(0.66820824, dtype=float32)"
      ]
     },
     "execution_count": 10,
     "metadata": {},
     "output_type": "execute_result"
    }
   ],
   "source": [
    "complete_dated_timed_mask.mean()"
   ]
  },
  {
   "cell_type": "code",
   "execution_count": 29,
   "metadata": {},
   "outputs": [],
   "source": [
    "# select masked observations\n",
    "mask = complete_dated_timed_mask\n",
    "s_objects = objects[mask]\n",
    "s_references = references[mask]\n",
    "s_axes = axes[mask]\n",
    "s_signs = signs[mask]\n",
    "s_cubits = cubits[mask]\n",
    "s_years = years[mask]\n",
    "s_months = months[mask]\n",
    "s_days = earliest_days[mask]\n",
    "s_times = times[mask]\n",
    "\n",
    "def model():\n",
    "    # number of observations\n",
    "    n = len(s_objects)\n",
    "\n",
    "    # length of a cubit\n",
    "    length_cubit = numpyro.sample('length_cubit', dist.TruncatedNormal(2.0, 1.0, low=0.0))\n",
    "\n",
    "    # observation variance\n",
    "    distance_variance = numpyro.sample('distance_variance', dist.Gamma(0.5,0.5))\n",
    "\n",
    "    # outlier distribution parameters\n",
    "    mu_outlier = numpyro.sample('mu_outlier', dist.Normal(0,1))\n",
    "    sigma_outlier = numpyro.sample('sigma_outlier', dist.Gamma(2.0,0.5))\n",
    "\n",
    "    # outlier probability prior\n",
    "    q = numpyro.sample('q', dist.Beta(1/2,1))\n",
    "\n",
    "    # time offsets for different observation times\n",
    "    # TODO: Unclear if the .to_event(1) is correct. Maybe can be written with a plate?\n",
    "    o_means = numpyro.sample('o_means', dist.Normal(jnp.zeros(n_times), jnp.ones(n_times) * 6.0).to_event(1))\n",
    "    o_vars = numpyro.sample('o_vars', dist.Gamma(jnp.ones(n_times) * 0.5, jnp.ones(n_times) * 0.5).to_event(1))\n",
    "\n",
    "    # the observation times of different observations\n",
    "    tau = numpyro.sample('tau', dist.Normal(o_means[s_times], o_vars[s_times]))\n",
    "\n",
    "    observations_plate = numpyro.plate('observations', n)\n",
    "\n",
    "    # observation dates\n",
    "    date = julian_date_index[year_month_julian_dates[s_years, s_months] + s_days - 1]\n",
    "    \n",
    "    # with observations_plate:\n",
    "    #     # the observation times of different observations\n",
    "    #     time = numpyro.sample('time', dist.Normal(0.0,6.0))\n",
    "        \n",
    "    # true distances at the given observation times\n",
    "    distance_range = object_reference_axis_date_positions[s_objects, s_references, s_axes, date]\n",
    "\n",
    "    true_distance = ((distance_range[...,1]-distance_range[...,0])/(time_range[1] - time_range[0])*(tau-time_range[1]))+distance_range[...,1]\n",
    "\n",
    "    # outlier mixture model\n",
    "    cat = dist.Categorical(probs=jnp.array([1-q,q]))\n",
    "    inlier_dist = dist.Normal(true_distance / length_cubit, distance_variance)\n",
    "    outlier_dist = dist.Normal(mu_outlier, sigma_outlier)\n",
    "    mix = dist.Mixture(cat, [inlier_dist, outlier_dist])\n",
    "    # mix = inlier_dist\n",
    "    \n",
    "    with observations_plate:\n",
    "        c = numpyro.sample('c', mix, obs=s_signs*s_cubits)\n",
    "\n",
    "        # record m for outlier identification\n",
    "        log_probs = mix.component_log_probs(c)\n",
    "        numpyro.deterministic('m', log_probs - jax.nn.logsumexp(log_probs, axis=-1, keepdims=True))"
   ]
  },
  {
   "cell_type": "code",
   "execution_count": 30,
   "metadata": {},
   "outputs": [
    {
     "name": "stderr",
     "output_type": "stream",
     "text": [
      "warmup:   2%|▏         | 75/5000 [00:19<21:22,  3.84it/s, 1023 steps of size 6.55e-06. acc. prob=0.71]\n"
     ]
    },
    {
     "ename": "KeyboardInterrupt",
     "evalue": "",
     "output_type": "error",
     "traceback": [
      "\u001b[0;31m---------------------------------------------------------------------------\u001b[0m",
      "\u001b[0;31mKeyboardInterrupt\u001b[0m                         Traceback (most recent call last)",
      "Cell \u001b[0;32mIn[30], line 3\u001b[0m\n\u001b[1;32m      1\u001b[0m kernel \u001b[38;5;241m=\u001b[39m numpyro\u001b[38;5;241m.\u001b[39minfer\u001b[38;5;241m.\u001b[39mNUTS(model)\n\u001b[1;32m      2\u001b[0m mcmc \u001b[38;5;241m=\u001b[39m numpyro\u001b[38;5;241m.\u001b[39minfer\u001b[38;5;241m.\u001b[39mMCMC(kernel, num_warmup\u001b[38;5;241m=\u001b[39m\u001b[38;5;241m1000\u001b[39m, num_samples\u001b[38;5;241m=\u001b[39m\u001b[38;5;241m4000\u001b[39m, num_chains\u001b[38;5;241m=\u001b[39m\u001b[38;5;241m1\u001b[39m, progress_bar\u001b[38;5;241m=\u001b[39m\u001b[38;5;28;01mTrue\u001b[39;00m)\n\u001b[0;32m----> 3\u001b[0m \u001b[43mmcmc\u001b[49m\u001b[38;5;241;43m.\u001b[39;49m\u001b[43mrun\u001b[49m\u001b[43m(\u001b[49m\u001b[43mjax\u001b[49m\u001b[38;5;241;43m.\u001b[39;49m\u001b[43mrandom\u001b[49m\u001b[38;5;241;43m.\u001b[39;49m\u001b[43mPRNGKey\u001b[49m\u001b[43m(\u001b[49m\u001b[38;5;241;43m1234\u001b[39;49m\u001b[43m)\u001b[49m\u001b[43m)\u001b[49m\n",
      "File \u001b[0;32m~/git/ComputableAstronomicalDiaries/PythonExperiments/.venv/lib/python3.12/site-packages/numpyro/infer/mcmc.py:682\u001b[0m, in \u001b[0;36mMCMC.run\u001b[0;34m(self, rng_key, extra_fields, init_params, *args, **kwargs)\u001b[0m\n\u001b[1;32m    680\u001b[0m map_args \u001b[38;5;241m=\u001b[39m (rng_key, init_state, init_params)\n\u001b[1;32m    681\u001b[0m \u001b[38;5;28;01mif\u001b[39;00m \u001b[38;5;28mself\u001b[39m\u001b[38;5;241m.\u001b[39mnum_chains \u001b[38;5;241m==\u001b[39m \u001b[38;5;241m1\u001b[39m:\n\u001b[0;32m--> 682\u001b[0m     states_flat, last_state \u001b[38;5;241m=\u001b[39m \u001b[43mpartial_map_fn\u001b[49m\u001b[43m(\u001b[49m\u001b[43mmap_args\u001b[49m\u001b[43m)\u001b[49m\n\u001b[1;32m    683\u001b[0m     states \u001b[38;5;241m=\u001b[39m jax\u001b[38;5;241m.\u001b[39mtree\u001b[38;5;241m.\u001b[39mmap(\u001b[38;5;28;01mlambda\u001b[39;00m x: x[jnp\u001b[38;5;241m.\u001b[39mnewaxis, \u001b[38;5;241m.\u001b[39m\u001b[38;5;241m.\u001b[39m\u001b[38;5;241m.\u001b[39m], states_flat)\n\u001b[1;32m    684\u001b[0m \u001b[38;5;28;01melse\u001b[39;00m:\n",
      "File \u001b[0;32m~/git/ComputableAstronomicalDiaries/PythonExperiments/.venv/lib/python3.12/site-packages/numpyro/infer/mcmc.py:467\u001b[0m, in \u001b[0;36mMCMC._single_chain_mcmc\u001b[0;34m(self, init, args, kwargs, collect_fields, remove_sites)\u001b[0m\n\u001b[1;32m    461\u001b[0m collection_size \u001b[38;5;241m=\u001b[39m \u001b[38;5;28mself\u001b[39m\u001b[38;5;241m.\u001b[39m_collection_params[\u001b[38;5;124m\"\u001b[39m\u001b[38;5;124mcollection_size\u001b[39m\u001b[38;5;124m\"\u001b[39m]\n\u001b[1;32m    462\u001b[0m collection_size \u001b[38;5;241m=\u001b[39m (\n\u001b[1;32m    463\u001b[0m     collection_size\n\u001b[1;32m    464\u001b[0m     \u001b[38;5;28;01mif\u001b[39;00m collection_size \u001b[38;5;129;01mis\u001b[39;00m \u001b[38;5;28;01mNone\u001b[39;00m\n\u001b[1;32m    465\u001b[0m     \u001b[38;5;28;01melse\u001b[39;00m collection_size \u001b[38;5;241m/\u001b[39m\u001b[38;5;241m/\u001b[39m \u001b[38;5;28mself\u001b[39m\u001b[38;5;241m.\u001b[39mthinning\n\u001b[1;32m    466\u001b[0m )\n\u001b[0;32m--> 467\u001b[0m collect_vals \u001b[38;5;241m=\u001b[39m \u001b[43mfori_collect\u001b[49m\u001b[43m(\u001b[49m\n\u001b[1;32m    468\u001b[0m \u001b[43m    \u001b[49m\u001b[43mlower_idx\u001b[49m\u001b[43m,\u001b[49m\n\u001b[1;32m    469\u001b[0m \u001b[43m    \u001b[49m\u001b[43mupper_idx\u001b[49m\u001b[43m,\u001b[49m\n\u001b[1;32m    470\u001b[0m \u001b[43m    \u001b[49m\u001b[43msample_fn\u001b[49m\u001b[43m,\u001b[49m\n\u001b[1;32m    471\u001b[0m \u001b[43m    \u001b[49m\u001b[43minit_val\u001b[49m\u001b[43m,\u001b[49m\n\u001b[1;32m    472\u001b[0m \u001b[43m    \u001b[49m\u001b[43mtransform\u001b[49m\u001b[38;5;241;43m=\u001b[39;49m\u001b[43m_collect_fn\u001b[49m\u001b[43m(\u001b[49m\u001b[43mcollect_fields\u001b[49m\u001b[43m,\u001b[49m\u001b[43m \u001b[49m\u001b[43mremove_sites\u001b[49m\u001b[43m)\u001b[49m\u001b[43m,\u001b[49m\n\u001b[1;32m    473\u001b[0m \u001b[43m    \u001b[49m\u001b[43mprogbar\u001b[49m\u001b[38;5;241;43m=\u001b[39;49m\u001b[38;5;28;43mself\u001b[39;49m\u001b[38;5;241;43m.\u001b[39;49m\u001b[43mprogress_bar\u001b[49m\u001b[43m,\u001b[49m\n\u001b[1;32m    474\u001b[0m \u001b[43m    \u001b[49m\u001b[43mreturn_last_val\u001b[49m\u001b[38;5;241;43m=\u001b[39;49m\u001b[38;5;28;43;01mTrue\u001b[39;49;00m\u001b[43m,\u001b[49m\n\u001b[1;32m    475\u001b[0m \u001b[43m    \u001b[49m\u001b[43mthinning\u001b[49m\u001b[38;5;241;43m=\u001b[39;49m\u001b[38;5;28;43mself\u001b[39;49m\u001b[38;5;241;43m.\u001b[39;49m\u001b[43mthinning\u001b[49m\u001b[43m,\u001b[49m\n\u001b[1;32m    476\u001b[0m \u001b[43m    \u001b[49m\u001b[43mcollection_size\u001b[49m\u001b[38;5;241;43m=\u001b[39;49m\u001b[43mcollection_size\u001b[49m\u001b[43m,\u001b[49m\n\u001b[1;32m    477\u001b[0m \u001b[43m    \u001b[49m\u001b[43mprogbar_desc\u001b[49m\u001b[38;5;241;43m=\u001b[39;49m\u001b[43mpartial\u001b[49m\u001b[43m(\u001b[49m\u001b[43m_get_progbar_desc_str\u001b[49m\u001b[43m,\u001b[49m\u001b[43m \u001b[49m\u001b[43mlower_idx\u001b[49m\u001b[43m,\u001b[49m\u001b[43m \u001b[49m\u001b[43mphase\u001b[49m\u001b[43m)\u001b[49m\u001b[43m,\u001b[49m\n\u001b[1;32m    478\u001b[0m \u001b[43m    \u001b[49m\u001b[43mdiagnostics_fn\u001b[49m\u001b[38;5;241;43m=\u001b[39;49m\u001b[43mdiagnostics\u001b[49m\u001b[43m,\u001b[49m\n\u001b[1;32m    479\u001b[0m \u001b[43m    \u001b[49m\u001b[43mnum_chains\u001b[49m\u001b[38;5;241;43m=\u001b[39;49m\u001b[38;5;28;43mself\u001b[39;49m\u001b[38;5;241;43m.\u001b[39;49m\u001b[43mnum_chains\u001b[49m\n\u001b[1;32m    480\u001b[0m \u001b[43m    \u001b[49m\u001b[38;5;28;43;01mif\u001b[39;49;00m\u001b[43m \u001b[49m\u001b[43m(\u001b[49m\u001b[38;5;28;43mcallable\u001b[39;49m\u001b[43m(\u001b[49m\u001b[38;5;28;43mself\u001b[39;49m\u001b[38;5;241;43m.\u001b[39;49m\u001b[43mchain_method\u001b[49m\u001b[43m)\u001b[49m\u001b[43m \u001b[49m\u001b[38;5;129;43;01mor\u001b[39;49;00m\u001b[43m \u001b[49m\u001b[38;5;28;43mself\u001b[39;49m\u001b[38;5;241;43m.\u001b[39;49m\u001b[43mchain_method\u001b[49m\u001b[43m \u001b[49m\u001b[38;5;241;43m==\u001b[39;49m\u001b[43m \u001b[49m\u001b[38;5;124;43m\"\u001b[39;49m\u001b[38;5;124;43mparallel\u001b[39;49m\u001b[38;5;124;43m\"\u001b[39;49m\u001b[43m)\u001b[49m\n\u001b[1;32m    481\u001b[0m \u001b[43m    \u001b[49m\u001b[38;5;28;43;01melse\u001b[39;49;00m\u001b[43m \u001b[49m\u001b[38;5;241;43m1\u001b[39;49m\u001b[43m,\u001b[49m\n\u001b[1;32m    482\u001b[0m \u001b[43m\u001b[49m\u001b[43m)\u001b[49m\n\u001b[1;32m    483\u001b[0m states, last_val \u001b[38;5;241m=\u001b[39m collect_vals\n\u001b[1;32m    484\u001b[0m \u001b[38;5;66;03m# Get first argument of type `HMCState`\u001b[39;00m\n",
      "File \u001b[0;32m~/git/ComputableAstronomicalDiaries/PythonExperiments/.venv/lib/python3.12/site-packages/numpyro/util.py:398\u001b[0m, in \u001b[0;36mfori_collect\u001b[0;34m(lower, upper, body_fun, init_val, transform, progbar, return_last_val, collection_size, thinning, **progbar_opts)\u001b[0m\n\u001b[1;32m    395\u001b[0m \u001b[38;5;28;01mfor\u001b[39;00m i \u001b[38;5;129;01min\u001b[39;00m t:\n\u001b[1;32m    396\u001b[0m     vals \u001b[38;5;241m=\u001b[39m _body_fn(i, \u001b[38;5;241m*\u001b[39mvals)\n\u001b[0;32m--> 398\u001b[0m     t\u001b[38;5;241m.\u001b[39mset_description(\u001b[43mprogbar_desc\u001b[49m\u001b[43m(\u001b[49m\u001b[43mi\u001b[49m\u001b[43m)\u001b[49m, refresh\u001b[38;5;241m=\u001b[39m\u001b[38;5;28;01mFalse\u001b[39;00m)\n\u001b[1;32m    399\u001b[0m     \u001b[38;5;28;01mif\u001b[39;00m diagnostics_fn:\n\u001b[1;32m    400\u001b[0m         t\u001b[38;5;241m.\u001b[39mset_postfix_str(diagnostics_fn(vals[\u001b[38;5;241m0\u001b[39m]), refresh\u001b[38;5;241m=\u001b[39m\u001b[38;5;28;01mFalse\u001b[39;00m)\n",
      "File \u001b[0;32m~/git/ComputableAstronomicalDiaries/PythonExperiments/.venv/lib/python3.12/site-packages/numpyro/infer/mcmc.py:160\u001b[0m, in \u001b[0;36m_get_progbar_desc_str\u001b[0;34m(num_warmup, phase, i)\u001b[0m\n\u001b[1;32m    153\u001b[0m \u001b[38;5;250m        \u001b[39m\u001b[38;5;124;03m\"\"\"\u001b[39;00m\n\u001b[1;32m    154\u001b[0m \u001b[38;5;124;03m        Given the current `state`, returns the diagnostics string to\u001b[39;00m\n\u001b[1;32m    155\u001b[0m \u001b[38;5;124;03m        be added to progress bar for diagnostics purpose.\u001b[39;00m\n\u001b[1;32m    156\u001b[0m \u001b[38;5;124;03m        \"\"\"\u001b[39;00m\n\u001b[1;32m    157\u001b[0m         \u001b[38;5;28;01mreturn\u001b[39;00m \u001b[38;5;124m\"\u001b[39m\u001b[38;5;124m\"\u001b[39m\n\u001b[0;32m--> 160\u001b[0m \u001b[38;5;28;01mdef\u001b[39;00m \u001b[38;5;21m_get_progbar_desc_str\u001b[39m(num_warmup, phase, i):\n\u001b[1;32m    161\u001b[0m     \u001b[38;5;28;01mif\u001b[39;00m phase \u001b[38;5;129;01mis\u001b[39;00m \u001b[38;5;129;01mnot\u001b[39;00m \u001b[38;5;28;01mNone\u001b[39;00m:\n\u001b[1;32m    162\u001b[0m         \u001b[38;5;28;01mreturn\u001b[39;00m phase\n",
      "\u001b[0;31mKeyboardInterrupt\u001b[0m: "
     ]
    }
   ],
   "source": [
    "kernel = numpyro.infer.NUTS(model)\n",
    "mcmc = numpyro.infer.MCMC(kernel, num_warmup=1000, num_samples=4000, num_chains=1, progress_bar=True)\n",
    "mcmc.run(jax.random.PRNGKey(1234))"
   ]
  },
  {
   "cell_type": "code",
   "execution_count": 13,
   "metadata": {},
   "outputs": [
    {
     "data": {
      "text/plain": [
       "Array([0, 0, 0, ..., 0, 0, 0], dtype=int32)"
      ]
     },
     "execution_count": 13,
     "metadata": {},
     "output_type": "execute_result"
    }
   ],
   "source": [
    "s_objects"
   ]
  },
  {
   "cell_type": "code",
   "execution_count": null,
   "metadata": {},
   "outputs": [],
   "source": []
  }
 ],
 "metadata": {
  "kernelspec": {
   "display_name": ".venv",
   "language": "python",
   "name": "python3"
  },
  "language_info": {
   "codemirror_mode": {
    "name": "ipython",
    "version": 3
   },
   "file_extension": ".py",
   "mimetype": "text/x-python",
   "name": "python",
   "nbconvert_exporter": "python",
   "pygments_lexer": "ipython3",
   "version": "3.12.4"
  }
 },
 "nbformat": 4,
 "nbformat_minor": 2
}
